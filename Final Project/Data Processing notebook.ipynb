{
  "nbformat": 4,
  "nbformat_minor": 0,
  "metadata": {
    "colab": {
      "provenance": [],
      "collapsed_sections": [
        "0rCVUwBUpReq",
        "H9HgHEsKrRzY",
        "HuAsfF9ifBE1",
        "se6W4IV-il1K",
        "8rP0yT6HsqRb",
        "nEOl9WawjaHZ"
      ],
      "toc_visible": true
    },
    "kernelspec": {
      "name": "python3",
      "display_name": "Python 3"
    },
    "language_info": {
      "name": "python"
    }
  },
  "cells": [
    {
      "cell_type": "markdown",
      "source": [
        "# Reading & Exploring"
      ],
      "metadata": {
        "id": "NANWobMr-69t"
      }
    },
    {
      "cell_type": "code",
      "execution_count": null,
      "metadata": {
        "id": "Oq5wOjQaoo6-"
      },
      "outputs": [],
      "source": [
        "import pandas as pd"
      ]
    },
    {
      "cell_type": "code",
      "source": [
        "# Read tables into DataFrames\n",
        "df_optin = pd.read_csv('optin.csv')\n",
        "df_status = pd.read_csv('candidate_status_update.csv')\n",
        "df_schools = pd.read_csv('dim_schools.csv')"
      ],
      "metadata": {
        "id": "Toat47D_pBhw"
      },
      "execution_count": null,
      "outputs": []
    },
    {
      "cell_type": "code",
      "source": [
        "df_optin.info()"
      ],
      "metadata": {
        "colab": {
          "base_uri": "https://localhost:8080/"
        },
        "id": "A5oWzjmov-cQ",
        "outputId": "51310736-76c3-4a8f-ea2c-ef7761988424"
      },
      "execution_count": null,
      "outputs": [
        {
          "output_type": "stream",
          "name": "stdout",
          "text": [
            "<class 'pandas.core.frame.DataFrame'>\n",
            "RangeIndex: 528928 entries, 0 to 528927\n",
            "Data columns (total 7 columns):\n",
            " #   Column              Non-Null Count   Dtype \n",
            "---  ------              --------------   ----- \n",
            " 0   user_id             528928 non-null  object\n",
            " 1   receive_time        528928 non-null  object\n",
            " 2   cause               528928 non-null  object\n",
            " 3   active              528928 non-null  bool  \n",
            " 4   school_id           528928 non-null  object\n",
            " 5   current_sign_in_at  527684 non-null  object\n",
            " 6   resume_uploaded     528928 non-null  bool  \n",
            "dtypes: bool(2), object(5)\n",
            "memory usage: 21.2+ MB\n"
          ]
        }
      ]
    },
    {
      "cell_type": "code",
      "source": [
        "df_status.info()"
      ],
      "metadata": {
        "colab": {
          "base_uri": "https://localhost:8080/"
        },
        "id": "TYoYDA1Vphmz",
        "outputId": "c6ce285d-8bed-4ea2-ffb3-44d6e4729fa7"
      },
      "execution_count": null,
      "outputs": [
        {
          "output_type": "stream",
          "name": "stdout",
          "text": [
            "<class 'pandas.core.frame.DataFrame'>\n",
            "RangeIndex: 50395 entries, 0 to 50394\n",
            "Data columns (total 7 columns):\n",
            " #   Column              Non-Null Count  Dtype \n",
            "---  ------              --------------  ----- \n",
            " 0   user_id             50395 non-null  object\n",
            " 1   receive_time        50395 non-null  object\n",
            " 2   shortlist_id        50395 non-null  object\n",
            " 3   status_update       50395 non-null  object\n",
            " 4   cause               50395 non-null  object\n",
            " 5   school_id           50395 non-null  object\n",
            " 6   current_sign_in_at  50319 non-null  object\n",
            "dtypes: object(7)\n",
            "memory usage: 2.7+ MB\n"
          ]
        }
      ]
    },
    {
      "cell_type": "code",
      "source": [
        "df_schools.info()"
      ],
      "metadata": {
        "colab": {
          "base_uri": "https://localhost:8080/"
        },
        "id": "RVZe64ICpkTK",
        "outputId": "c0fcbfc9-79ed-424c-c6c7-f5d682ad26c4"
      },
      "execution_count": null,
      "outputs": [
        {
          "output_type": "stream",
          "name": "stdout",
          "text": [
            "<class 'pandas.core.frame.DataFrame'>\n",
            "RangeIndex: 3938 entries, 0 to 3937\n",
            "Data columns (total 6 columns):\n",
            " #   Column              Non-Null Count  Dtype \n",
            "---  ------              --------------  ----- \n",
            " 0   school_id           3938 non-null   object\n",
            " 1   is_cc               3938 non-null   bool  \n",
            " 2   intranet_school_id  562 non-null    object\n",
            " 3   jt_country          3938 non-null   object\n",
            " 4   jt_intranet_status  1566 non-null   object\n",
            " 5   jt_school_type      3938 non-null   int64 \n",
            "dtypes: bool(1), int64(1), object(4)\n",
            "memory usage: 157.8+ KB\n"
          ]
        }
      ]
    },
    {
      "cell_type": "markdown",
      "source": [
        "# Cleaning Data"
      ],
      "metadata": {
        "id": "guZsLNoL_uTz"
      }
    },
    {
      "cell_type": "markdown",
      "source": [
        "## Rename columns"
      ],
      "metadata": {
        "id": "PF2V-YNvwS7w"
      }
    },
    {
      "cell_type": "code",
      "source": [
        "df_optin.rename(columns={\"cause\": \"toggle_cause\",\n",
        "                        \"current_sign_in_at\": \"last_connection\"},inplace=True)"
      ],
      "metadata": {
        "id": "8e2hBiQIwYEv"
      },
      "execution_count": null,
      "outputs": []
    },
    {
      "cell_type": "code",
      "source": [
        "df_optin.info()"
      ],
      "metadata": {
        "colab": {
          "base_uri": "https://localhost:8080/"
        },
        "id": "UEapH0mN0QSa",
        "outputId": "b6033429-48e4-4e5a-c525-75afc2a43d57"
      },
      "execution_count": null,
      "outputs": [
        {
          "output_type": "stream",
          "name": "stdout",
          "text": [
            "<class 'pandas.core.frame.DataFrame'>\n",
            "RangeIndex: 528928 entries, 0 to 528927\n",
            "Data columns (total 7 columns):\n",
            " #   Column           Non-Null Count   Dtype \n",
            "---  ------           --------------   ----- \n",
            " 0   user_id          528928 non-null  object\n",
            " 1   receive_time     528928 non-null  object\n",
            " 2   toggle_cause     528928 non-null  object\n",
            " 3   active           528928 non-null  bool  \n",
            " 4   school_id        528928 non-null  object\n",
            " 5   last_connection  527684 non-null  object\n",
            " 6   resume_uploaded  528928 non-null  bool  \n",
            "dtypes: bool(2), object(5)\n",
            "memory usage: 21.2+ MB\n"
          ]
        }
      ]
    },
    {
      "cell_type": "code",
      "source": [
        "df_status.rename(columns={\"cause\": \"update_cause\",\n",
        "                                      \"current_sign_in_at\": \"last_connection\"},inplace=True)"
      ],
      "metadata": {
        "id": "XJH9oFMX0SKz"
      },
      "execution_count": null,
      "outputs": []
    },
    {
      "cell_type": "code",
      "source": [
        "df_status.info()"
      ],
      "metadata": {
        "colab": {
          "base_uri": "https://localhost:8080/"
        },
        "id": "JUPep6TD0gro",
        "outputId": "be5a9122-0d7d-48fc-8609-f6da5fcd20b4"
      },
      "execution_count": null,
      "outputs": [
        {
          "output_type": "stream",
          "name": "stdout",
          "text": [
            "<class 'pandas.core.frame.DataFrame'>\n",
            "RangeIndex: 50395 entries, 0 to 50394\n",
            "Data columns (total 7 columns):\n",
            " #   Column           Non-Null Count  Dtype \n",
            "---  ------           --------------  ----- \n",
            " 0   user_id          50395 non-null  object\n",
            " 1   receive_time     50395 non-null  object\n",
            " 2   shortlist_id     50395 non-null  object\n",
            " 3   status_update    50395 non-null  object\n",
            " 4   update_cause     50395 non-null  object\n",
            " 5   school_id        50395 non-null  object\n",
            " 6   last_connection  50319 non-null  object\n",
            "dtypes: object(7)\n",
            "memory usage: 2.7+ MB\n"
          ]
        }
      ]
    },
    {
      "cell_type": "code",
      "source": [
        "df_schools.rename(columns={\"is_cc\": \"is_career_center\"},inplace=True)"
      ],
      "metadata": {
        "id": "WePSNvgR0jYO"
      },
      "execution_count": null,
      "outputs": []
    },
    {
      "cell_type": "code",
      "source": [
        "df_schools.info()"
      ],
      "metadata": {
        "colab": {
          "base_uri": "https://localhost:8080/"
        },
        "id": "RY7h3Fu40zJ7",
        "outputId": "b75841f8-09ef-4e3a-bc1e-90f693baff5b"
      },
      "execution_count": null,
      "outputs": [
        {
          "output_type": "stream",
          "name": "stdout",
          "text": [
            "<class 'pandas.core.frame.DataFrame'>\n",
            "RangeIndex: 3938 entries, 0 to 3937\n",
            "Data columns (total 6 columns):\n",
            " #   Column              Non-Null Count  Dtype \n",
            "---  ------              --------------  ----- \n",
            " 0   school_id           3938 non-null   object\n",
            " 1   is_career_center    3938 non-null   bool  \n",
            " 2   intranet_school_id  562 non-null    object\n",
            " 3   jt_country          3938 non-null   object\n",
            " 4   jt_intranet_status  1566 non-null   object\n",
            " 5   jt_school_type      3938 non-null   int64 \n",
            "dtypes: bool(1), int64(1), object(4)\n",
            "memory usage: 157.8+ KB\n"
          ]
        }
      ]
    },
    {
      "cell_type": "markdown",
      "source": [
        "## Null values"
      ],
      "metadata": {
        "id": "0rCVUwBUpReq"
      }
    },
    {
      "cell_type": "code",
      "source": [
        "df_optin.isna().sum()"
      ],
      "metadata": {
        "colab": {
          "base_uri": "https://localhost:8080/"
        },
        "id": "Z6p7NbVLpM6-",
        "outputId": "956559d9-779b-4d9f-904d-ae7e939d7c30"
      },
      "execution_count": null,
      "outputs": [
        {
          "output_type": "execute_result",
          "data": {
            "text/plain": [
              "user_id                  0\n",
              "receive_time             0\n",
              "cause                    0\n",
              "active                   0\n",
              "school_id                0\n",
              "current_sign_in_at    1244\n",
              "resume_uploaded          0\n",
              "dtype: int64"
            ]
          },
          "metadata": {},
          "execution_count": 159
        }
      ]
    },
    {
      "cell_type": "code",
      "source": [
        "df_status.isna().sum()"
      ],
      "metadata": {
        "colab": {
          "base_uri": "https://localhost:8080/"
        },
        "id": "ZZv_lwOLpWCY",
        "outputId": "b5366107-c280-424e-a5f7-7c7bc0b54c3e"
      },
      "execution_count": null,
      "outputs": [
        {
          "output_type": "execute_result",
          "data": {
            "text/plain": [
              "user_id                0\n",
              "receive_time           0\n",
              "shortlist_id           0\n",
              "status_update          0\n",
              "cause                  0\n",
              "school_id              0\n",
              "current_sign_in_at    76\n",
              "dtype: int64"
            ]
          },
          "metadata": {},
          "execution_count": 160
        }
      ]
    },
    {
      "cell_type": "code",
      "source": [
        "df_schools.isna().sum()"
      ],
      "metadata": {
        "colab": {
          "base_uri": "https://localhost:8080/"
        },
        "id": "u3GF8eiVpZd6",
        "outputId": "c53b2def-8f46-4721-d73f-0e765f68ba50"
      },
      "execution_count": null,
      "outputs": [
        {
          "output_type": "execute_result",
          "data": {
            "text/plain": [
              "school_id                0\n",
              "is_cc                    0\n",
              "intranet_school_id    3376\n",
              "jt_country               0\n",
              "jt_intranet_status    2372\n",
              "jt_school_type           0\n",
              "dtype: int64"
            ]
          },
          "metadata": {},
          "execution_count": 161
        }
      ]
    },
    {
      "cell_type": "markdown",
      "source": [
        "## Fill null values"
      ],
      "metadata": {
        "id": "pHP-zYzf2fwM"
      }
    },
    {
      "cell_type": "code",
      "source": [
        "# for df_optin\n",
        "mode = df_optin['last_connection'].mode()[0]\n",
        "\n",
        "# Fill nulls with most frequent value\n",
        "df_optin['last_connection'] = df_optin['last_connection'].fillna(mode)"
      ],
      "metadata": {
        "id": "V-5jtREQ2l2V"
      },
      "execution_count": null,
      "outputs": []
    },
    {
      "cell_type": "code",
      "source": [
        "df_optin.isna().sum()"
      ],
      "metadata": {
        "colab": {
          "base_uri": "https://localhost:8080/"
        },
        "id": "HPRQNlLg9MDR",
        "outputId": "a23044c1-5065-47bb-fb43-30f4f4f27c4f"
      },
      "execution_count": null,
      "outputs": [
        {
          "output_type": "execute_result",
          "data": {
            "text/plain": [
              "user_id            0\n",
              "receive_time       0\n",
              "toggle_cause       0\n",
              "active             0\n",
              "school_id          0\n",
              "last_connection    0\n",
              "resume_uploaded    0\n",
              "dtype: int64"
            ]
          },
          "metadata": {},
          "execution_count": 10
        }
      ]
    },
    {
      "cell_type": "code",
      "source": [
        "# for df_status\n",
        "mode2 = df_status['last_connection'].mode()[0]\n",
        "\n",
        "# Fill nulls with most frequent value\n",
        "df_status['last_connection'] = df_status['last_connection'].fillna(mode2)"
      ],
      "metadata": {
        "id": "LabPA1Gk9RV7"
      },
      "execution_count": null,
      "outputs": []
    },
    {
      "cell_type": "code",
      "source": [
        "df_status.isna().sum()"
      ],
      "metadata": {
        "colab": {
          "base_uri": "https://localhost:8080/"
        },
        "id": "tq0aZp3_9ZqE",
        "outputId": "fe897172-1b78-4381-e14d-f2a89f6d2594"
      },
      "execution_count": null,
      "outputs": [
        {
          "output_type": "execute_result",
          "data": {
            "text/plain": [
              "user_id            0\n",
              "receive_time       0\n",
              "shortlist_id       0\n",
              "status_update      0\n",
              "update_cause       0\n",
              "school_id          0\n",
              "last_connection    0\n",
              "dtype: int64"
            ]
          },
          "metadata": {},
          "execution_count": 12
        }
      ]
    },
    {
      "cell_type": "code",
      "source": [
        "# for jt_internet_status in dim_schools\n",
        "# fill the colum jt_intranet_status with random choose to make balance between them."
      ],
      "metadata": {
        "id": "cpJVkAwB-LzA"
      },
      "execution_count": null,
      "outputs": []
    },
    {
      "cell_type": "code",
      "source": [
        "df_schools['jt_intranet_status'].value_counts()"
      ],
      "metadata": {
        "colab": {
          "base_uri": "https://localhost:8080/"
        },
        "id": "lsMIhk85-kvH",
        "outputId": "8cc1808f-c946-4a44-9529-346e04be82d4"
      },
      "execution_count": null,
      "outputs": [
        {
          "output_type": "execute_result",
          "data": {
            "text/plain": [
              "prospect    734\n",
              "launched    622\n",
              "pending     210\n",
              "Name: jt_intranet_status, dtype: int64"
            ]
          },
          "metadata": {},
          "execution_count": 13
        }
      ]
    },
    {
      "cell_type": "code",
      "source": [
        "import random\n",
        "\n",
        "possible_values = ['prospect', 'launched', 'pending']\n",
        "#Filters the DataFrame to only rows where the column is null, then takes the index values of those rows. This gives us the indices of null rows.\n",
        "null_indices = df_schools[df_schools['jt_intranet_status'].isna()].index\n",
        "\n",
        "for row in null_indices:\n",
        "    #choose random value ,\n",
        "    value = random.choice(possible_values)\n",
        "    #but the random value with spesifc row .\n",
        "    df_schools.loc[row, 'jt_intranet_status'] = value\n",
        "\n",
        "df_schools['jt_intranet_status'].value_counts()"
      ],
      "metadata": {
        "colab": {
          "base_uri": "https://localhost:8080/"
        },
        "id": "_VBfKbua-qjC",
        "outputId": "1b761fad-c0b1-4216-bfda-0e2bae12b1e9"
      },
      "execution_count": null,
      "outputs": [
        {
          "output_type": "execute_result",
          "data": {
            "text/plain": [
              "prospect    1524\n",
              "launched    1394\n",
              "pending     1020\n",
              "Name: jt_intranet_status, dtype: int64"
            ]
          },
          "metadata": {},
          "execution_count": 14
        }
      ]
    },
    {
      "cell_type": "code",
      "source": [
        "df_schools.isna().sum()"
      ],
      "metadata": {
        "colab": {
          "base_uri": "https://localhost:8080/"
        },
        "id": "9gb7mHXq-x1W",
        "outputId": "edb1ec85-592f-4788-9bd4-c767336f0ded"
      },
      "execution_count": null,
      "outputs": [
        {
          "output_type": "execute_result",
          "data": {
            "text/plain": [
              "school_id                0\n",
              "is_career_center         0\n",
              "intranet_school_id    3376\n",
              "jt_country               0\n",
              "jt_intranet_status       0\n",
              "jt_school_type           0\n",
              "dtype: int64"
            ]
          },
          "metadata": {},
          "execution_count": 15
        }
      ]
    },
    {
      "cell_type": "markdown",
      "source": [
        "## Delete unnecessary columns"
      ],
      "metadata": {
        "id": "H9HgHEsKrRzY"
      }
    },
    {
      "cell_type": "code",
      "source": [
        "# drop the intranet_school_id column\n",
        "# df_schools = df_schools.drop('intranet_school_id', axis=1)"
      ],
      "metadata": {
        "id": "ahfpHST2qYt5"
      },
      "execution_count": null,
      "outputs": []
    },
    {
      "cell_type": "code",
      "source": [
        "df_schools.isna().sum()"
      ],
      "metadata": {
        "colab": {
          "base_uri": "https://localhost:8080/"
        },
        "id": "RKvSd2skq6U4",
        "outputId": "56ea6232-f749-4f47-b8f1-8037b057555d"
      },
      "execution_count": null,
      "outputs": [
        {
          "output_type": "execute_result",
          "data": {
            "text/plain": [
              "school_id                0\n",
              "is_cc                    0\n",
              "intranet_school_id    3376\n",
              "jt_country               0\n",
              "jt_intranet_status       0\n",
              "jt_school_type           0\n",
              "dtype: int64"
            ]
          },
          "metadata": {},
          "execution_count": 171
        }
      ]
    },
    {
      "cell_type": "markdown",
      "source": [
        "## Change data type"
      ],
      "metadata": {
        "id": "OYPhTuk9X2Et"
      }
    },
    {
      "cell_type": "code",
      "source": [
        "# for df_schools\n",
        "df_schools['jt_school_type'] = df_schools['jt_school_type'].astype(str)"
      ],
      "metadata": {
        "id": "VgKARC88X8Q4"
      },
      "execution_count": null,
      "outputs": []
    },
    {
      "cell_type": "code",
      "source": [
        "df_schools.info()"
      ],
      "metadata": {
        "id": "rCPVakAPYMS-",
        "outputId": "41b88410-b233-4870-cd4f-b9982ed00ef2",
        "colab": {
          "base_uri": "https://localhost:8080/"
        }
      },
      "execution_count": null,
      "outputs": [
        {
          "output_type": "stream",
          "name": "stdout",
          "text": [
            "<class 'pandas.core.frame.DataFrame'>\n",
            "RangeIndex: 3938 entries, 0 to 3937\n",
            "Data columns (total 6 columns):\n",
            " #   Column              Non-Null Count  Dtype \n",
            "---  ------              --------------  ----- \n",
            " 0   school_id           3938 non-null   object\n",
            " 1   is_career_center    3938 non-null   bool  \n",
            " 2   intranet_school_id  562 non-null    object\n",
            " 3   jt_country          3938 non-null   object\n",
            " 4   jt_intranet_status  3938 non-null   object\n",
            " 5   jt_school_type      3938 non-null   object\n",
            "dtypes: bool(1), object(5)\n",
            "memory usage: 157.8+ KB\n"
          ]
        }
      ]
    },
    {
      "cell_type": "markdown",
      "source": [
        "## Handle date columns"
      ],
      "metadata": {
        "id": "-61eoRmT_94b"
      }
    },
    {
      "cell_type": "code",
      "source": [
        "# for df_optin\n",
        "# delete UTC From column\n",
        "df_optin['receive_time'] = df_optin['receive_time'].str.replace(' UTC', '')\n",
        "df_optin['last_connection'] = df_optin['last_connection'].str.replace(' UTC', '')\n",
        "df_optin"
      ],
      "metadata": {
        "colab": {
          "base_uri": "https://localhost:8080/",
          "height": 964
        },
        "id": "x8mIkAtKAKJg",
        "outputId": "ae751a4b-7a08-4313-a032-287b5dea6e85"
      },
      "execution_count": null,
      "outputs": [
        {
          "output_type": "execute_result",
          "data": {
            "text/plain": [
              "                                     user_id         receive_time  \\\n",
              "0       46ecd1cd-dc0c-46dd-8d1d-c2b213c1d1a5  2020-06-17 16:58:00   \n",
              "1       e77c48cd-32c1-4877-8678-fd2609edd817  2020-08-12 11:52:00   \n",
              "2       70f9e518-9cab-4c50-82b7-4ab239cff3e9  2020-02-16 10:39:00   \n",
              "3       2affd93e-6351-4d10-80bb-c6db308f2ca3  2020-03-22 14:08:00   \n",
              "4       a930ec9d-e0bf-4e2b-9425-06561848d93f  2019-10-15 16:42:00   \n",
              "...                                      ...                  ...   \n",
              "528923  8bbac6c4-e400-4950-9e67-0e66dd183c94  2020-07-13 17:14:00   \n",
              "528924  35b32bb0-cb26-4574-ac2d-635da4e90e06  2020-04-30 10:04:00   \n",
              "528925  35b32bb0-cb26-4574-ac2d-635da4e90e06  2020-05-19 06:46:00   \n",
              "528926  35b32bb0-cb26-4574-ac2d-635da4e90e06  2020-11-02 08:50:00   \n",
              "528927  d8835c67-a752-45a3-8562-d15d82c956b6  2020-03-25 10:54:00   \n",
              "\n",
              "          toggle_cause  active                             school_id  \\\n",
              "0               manual   False  007af60e-7795-462a-a7b9-ee666ff37a11   \n",
              "1               manual   False  0087df51-763a-4f03-9f77-2d259b1c487a   \n",
              "2               manual   False  0087df51-763a-4f03-9f77-2d259b1c487a   \n",
              "3               manual   False  0087df51-763a-4f03-9f77-2d259b1c487a   \n",
              "4               manual   False  00a4aceb-ac50-4a42-8c13-bc5164c34480   \n",
              "...                ...     ...                                   ...   \n",
              "528923  auto-no-answer   False  ffebf613-0961-44d2-bd87-f9c3b1f5ed51   \n",
              "528924  auto-no-answer   False  ffebf613-0961-44d2-bd87-f9c3b1f5ed51   \n",
              "528925  auto-no-answer   False  ffebf613-0961-44d2-bd87-f9c3b1f5ed51   \n",
              "528926  auto-no-answer   False  ffebf613-0961-44d2-bd87-f9c3b1f5ed51   \n",
              "528927  auto-no-answer   False  ffebf613-0961-44d2-bd87-f9c3b1f5ed51   \n",
              "\n",
              "            last_connection  resume_uploaded  \n",
              "0       2020-06-17 16:53:00            False  \n",
              "1       2020-08-12 11:41:00            False  \n",
              "2       2020-02-16 10:35:00            False  \n",
              "3       2020-03-22 14:33:00            False  \n",
              "4       2019-10-15 16:33:00            False  \n",
              "...                     ...              ...  \n",
              "528923  2020-01-22 08:32:00             True  \n",
              "528924  2020-07-22 11:47:00             True  \n",
              "528925  2020-07-22 11:47:00             True  \n",
              "528926  2020-07-22 11:47:00             True  \n",
              "528927  2020-11-03 09:01:00             True  \n",
              "\n",
              "[528928 rows x 7 columns]"
            ],
            "text/html": [
              "\n",
              "  <div id=\"df-47164588-57f8-44ce-b865-6e3eaa4f462f\" class=\"colab-df-container\">\n",
              "    <div>\n",
              "<style scoped>\n",
              "    .dataframe tbody tr th:only-of-type {\n",
              "        vertical-align: middle;\n",
              "    }\n",
              "\n",
              "    .dataframe tbody tr th {\n",
              "        vertical-align: top;\n",
              "    }\n",
              "\n",
              "    .dataframe thead th {\n",
              "        text-align: right;\n",
              "    }\n",
              "</style>\n",
              "<table border=\"1\" class=\"dataframe\">\n",
              "  <thead>\n",
              "    <tr style=\"text-align: right;\">\n",
              "      <th></th>\n",
              "      <th>user_id</th>\n",
              "      <th>receive_time</th>\n",
              "      <th>toggle_cause</th>\n",
              "      <th>active</th>\n",
              "      <th>school_id</th>\n",
              "      <th>last_connection</th>\n",
              "      <th>resume_uploaded</th>\n",
              "    </tr>\n",
              "  </thead>\n",
              "  <tbody>\n",
              "    <tr>\n",
              "      <th>0</th>\n",
              "      <td>46ecd1cd-dc0c-46dd-8d1d-c2b213c1d1a5</td>\n",
              "      <td>2020-06-17 16:58:00</td>\n",
              "      <td>manual</td>\n",
              "      <td>False</td>\n",
              "      <td>007af60e-7795-462a-a7b9-ee666ff37a11</td>\n",
              "      <td>2020-06-17 16:53:00</td>\n",
              "      <td>False</td>\n",
              "    </tr>\n",
              "    <tr>\n",
              "      <th>1</th>\n",
              "      <td>e77c48cd-32c1-4877-8678-fd2609edd817</td>\n",
              "      <td>2020-08-12 11:52:00</td>\n",
              "      <td>manual</td>\n",
              "      <td>False</td>\n",
              "      <td>0087df51-763a-4f03-9f77-2d259b1c487a</td>\n",
              "      <td>2020-08-12 11:41:00</td>\n",
              "      <td>False</td>\n",
              "    </tr>\n",
              "    <tr>\n",
              "      <th>2</th>\n",
              "      <td>70f9e518-9cab-4c50-82b7-4ab239cff3e9</td>\n",
              "      <td>2020-02-16 10:39:00</td>\n",
              "      <td>manual</td>\n",
              "      <td>False</td>\n",
              "      <td>0087df51-763a-4f03-9f77-2d259b1c487a</td>\n",
              "      <td>2020-02-16 10:35:00</td>\n",
              "      <td>False</td>\n",
              "    </tr>\n",
              "    <tr>\n",
              "      <th>3</th>\n",
              "      <td>2affd93e-6351-4d10-80bb-c6db308f2ca3</td>\n",
              "      <td>2020-03-22 14:08:00</td>\n",
              "      <td>manual</td>\n",
              "      <td>False</td>\n",
              "      <td>0087df51-763a-4f03-9f77-2d259b1c487a</td>\n",
              "      <td>2020-03-22 14:33:00</td>\n",
              "      <td>False</td>\n",
              "    </tr>\n",
              "    <tr>\n",
              "      <th>4</th>\n",
              "      <td>a930ec9d-e0bf-4e2b-9425-06561848d93f</td>\n",
              "      <td>2019-10-15 16:42:00</td>\n",
              "      <td>manual</td>\n",
              "      <td>False</td>\n",
              "      <td>00a4aceb-ac50-4a42-8c13-bc5164c34480</td>\n",
              "      <td>2019-10-15 16:33:00</td>\n",
              "      <td>False</td>\n",
              "    </tr>\n",
              "    <tr>\n",
              "      <th>...</th>\n",
              "      <td>...</td>\n",
              "      <td>...</td>\n",
              "      <td>...</td>\n",
              "      <td>...</td>\n",
              "      <td>...</td>\n",
              "      <td>...</td>\n",
              "      <td>...</td>\n",
              "    </tr>\n",
              "    <tr>\n",
              "      <th>528923</th>\n",
              "      <td>8bbac6c4-e400-4950-9e67-0e66dd183c94</td>\n",
              "      <td>2020-07-13 17:14:00</td>\n",
              "      <td>auto-no-answer</td>\n",
              "      <td>False</td>\n",
              "      <td>ffebf613-0961-44d2-bd87-f9c3b1f5ed51</td>\n",
              "      <td>2020-01-22 08:32:00</td>\n",
              "      <td>True</td>\n",
              "    </tr>\n",
              "    <tr>\n",
              "      <th>528924</th>\n",
              "      <td>35b32bb0-cb26-4574-ac2d-635da4e90e06</td>\n",
              "      <td>2020-04-30 10:04:00</td>\n",
              "      <td>auto-no-answer</td>\n",
              "      <td>False</td>\n",
              "      <td>ffebf613-0961-44d2-bd87-f9c3b1f5ed51</td>\n",
              "      <td>2020-07-22 11:47:00</td>\n",
              "      <td>True</td>\n",
              "    </tr>\n",
              "    <tr>\n",
              "      <th>528925</th>\n",
              "      <td>35b32bb0-cb26-4574-ac2d-635da4e90e06</td>\n",
              "      <td>2020-05-19 06:46:00</td>\n",
              "      <td>auto-no-answer</td>\n",
              "      <td>False</td>\n",
              "      <td>ffebf613-0961-44d2-bd87-f9c3b1f5ed51</td>\n",
              "      <td>2020-07-22 11:47:00</td>\n",
              "      <td>True</td>\n",
              "    </tr>\n",
              "    <tr>\n",
              "      <th>528926</th>\n",
              "      <td>35b32bb0-cb26-4574-ac2d-635da4e90e06</td>\n",
              "      <td>2020-11-02 08:50:00</td>\n",
              "      <td>auto-no-answer</td>\n",
              "      <td>False</td>\n",
              "      <td>ffebf613-0961-44d2-bd87-f9c3b1f5ed51</td>\n",
              "      <td>2020-07-22 11:47:00</td>\n",
              "      <td>True</td>\n",
              "    </tr>\n",
              "    <tr>\n",
              "      <th>528927</th>\n",
              "      <td>d8835c67-a752-45a3-8562-d15d82c956b6</td>\n",
              "      <td>2020-03-25 10:54:00</td>\n",
              "      <td>auto-no-answer</td>\n",
              "      <td>False</td>\n",
              "      <td>ffebf613-0961-44d2-bd87-f9c3b1f5ed51</td>\n",
              "      <td>2020-11-03 09:01:00</td>\n",
              "      <td>True</td>\n",
              "    </tr>\n",
              "  </tbody>\n",
              "</table>\n",
              "<p>528928 rows × 7 columns</p>\n",
              "</div>\n",
              "    <div class=\"colab-df-buttons\">\n",
              "\n",
              "  <div class=\"colab-df-container\">\n",
              "    <button class=\"colab-df-convert\" onclick=\"convertToInteractive('df-47164588-57f8-44ce-b865-6e3eaa4f462f')\"\n",
              "            title=\"Convert this dataframe to an interactive table.\"\n",
              "            style=\"display:none;\">\n",
              "\n",
              "  <svg xmlns=\"http://www.w3.org/2000/svg\" height=\"24px\" viewBox=\"0 -960 960 960\">\n",
              "    <path d=\"M120-120v-720h720v720H120Zm60-500h600v-160H180v160Zm220 220h160v-160H400v160Zm0 220h160v-160H400v160ZM180-400h160v-160H180v160Zm440 0h160v-160H620v160ZM180-180h160v-160H180v160Zm440 0h160v-160H620v160Z\"/>\n",
              "  </svg>\n",
              "    </button>\n",
              "\n",
              "  <style>\n",
              "    .colab-df-container {\n",
              "      display:flex;\n",
              "      gap: 12px;\n",
              "    }\n",
              "\n",
              "    .colab-df-convert {\n",
              "      background-color: #E8F0FE;\n",
              "      border: none;\n",
              "      border-radius: 50%;\n",
              "      cursor: pointer;\n",
              "      display: none;\n",
              "      fill: #1967D2;\n",
              "      height: 32px;\n",
              "      padding: 0 0 0 0;\n",
              "      width: 32px;\n",
              "    }\n",
              "\n",
              "    .colab-df-convert:hover {\n",
              "      background-color: #E2EBFA;\n",
              "      box-shadow: 0px 1px 2px rgba(60, 64, 67, 0.3), 0px 1px 3px 1px rgba(60, 64, 67, 0.15);\n",
              "      fill: #174EA6;\n",
              "    }\n",
              "\n",
              "    .colab-df-buttons div {\n",
              "      margin-bottom: 4px;\n",
              "    }\n",
              "\n",
              "    [theme=dark] .colab-df-convert {\n",
              "      background-color: #3B4455;\n",
              "      fill: #D2E3FC;\n",
              "    }\n",
              "\n",
              "    [theme=dark] .colab-df-convert:hover {\n",
              "      background-color: #434B5C;\n",
              "      box-shadow: 0px 1px 3px 1px rgba(0, 0, 0, 0.15);\n",
              "      filter: drop-shadow(0px 1px 2px rgba(0, 0, 0, 0.3));\n",
              "      fill: #FFFFFF;\n",
              "    }\n",
              "  </style>\n",
              "\n",
              "    <script>\n",
              "      const buttonEl =\n",
              "        document.querySelector('#df-47164588-57f8-44ce-b865-6e3eaa4f462f button.colab-df-convert');\n",
              "      buttonEl.style.display =\n",
              "        google.colab.kernel.accessAllowed ? 'block' : 'none';\n",
              "\n",
              "      async function convertToInteractive(key) {\n",
              "        const element = document.querySelector('#df-47164588-57f8-44ce-b865-6e3eaa4f462f');\n",
              "        const dataTable =\n",
              "          await google.colab.kernel.invokeFunction('convertToInteractive',\n",
              "                                                    [key], {});\n",
              "        if (!dataTable) return;\n",
              "\n",
              "        const docLinkHtml = 'Like what you see? Visit the ' +\n",
              "          '<a target=\"_blank\" href=https://colab.research.google.com/notebooks/data_table.ipynb>data table notebook</a>'\n",
              "          + ' to learn more about interactive tables.';\n",
              "        element.innerHTML = '';\n",
              "        dataTable['output_type'] = 'display_data';\n",
              "        await google.colab.output.renderOutput(dataTable, element);\n",
              "        const docLink = document.createElement('div');\n",
              "        docLink.innerHTML = docLinkHtml;\n",
              "        element.appendChild(docLink);\n",
              "      }\n",
              "    </script>\n",
              "  </div>\n",
              "\n",
              "\n",
              "<div id=\"df-d5d4ef30-9e40-4c2b-bad3-0bf62ffc6181\">\n",
              "  <button class=\"colab-df-quickchart\" onclick=\"quickchart('df-d5d4ef30-9e40-4c2b-bad3-0bf62ffc6181')\"\n",
              "            title=\"Suggest charts\"\n",
              "            style=\"display:none;\">\n",
              "\n",
              "<svg xmlns=\"http://www.w3.org/2000/svg\" height=\"24px\"viewBox=\"0 0 24 24\"\n",
              "     width=\"24px\">\n",
              "    <g>\n",
              "        <path d=\"M19 3H5c-1.1 0-2 .9-2 2v14c0 1.1.9 2 2 2h14c1.1 0 2-.9 2-2V5c0-1.1-.9-2-2-2zM9 17H7v-7h2v7zm4 0h-2V7h2v10zm4 0h-2v-4h2v4z\"/>\n",
              "    </g>\n",
              "</svg>\n",
              "  </button>\n",
              "\n",
              "<style>\n",
              "  .colab-df-quickchart {\n",
              "      --bg-color: #E8F0FE;\n",
              "      --fill-color: #1967D2;\n",
              "      --hover-bg-color: #E2EBFA;\n",
              "      --hover-fill-color: #174EA6;\n",
              "      --disabled-fill-color: #AAA;\n",
              "      --disabled-bg-color: #DDD;\n",
              "  }\n",
              "\n",
              "  [theme=dark] .colab-df-quickchart {\n",
              "      --bg-color: #3B4455;\n",
              "      --fill-color: #D2E3FC;\n",
              "      --hover-bg-color: #434B5C;\n",
              "      --hover-fill-color: #FFFFFF;\n",
              "      --disabled-bg-color: #3B4455;\n",
              "      --disabled-fill-color: #666;\n",
              "  }\n",
              "\n",
              "  .colab-df-quickchart {\n",
              "    background-color: var(--bg-color);\n",
              "    border: none;\n",
              "    border-radius: 50%;\n",
              "    cursor: pointer;\n",
              "    display: none;\n",
              "    fill: var(--fill-color);\n",
              "    height: 32px;\n",
              "    padding: 0;\n",
              "    width: 32px;\n",
              "  }\n",
              "\n",
              "  .colab-df-quickchart:hover {\n",
              "    background-color: var(--hover-bg-color);\n",
              "    box-shadow: 0 1px 2px rgba(60, 64, 67, 0.3), 0 1px 3px 1px rgba(60, 64, 67, 0.15);\n",
              "    fill: var(--button-hover-fill-color);\n",
              "  }\n",
              "\n",
              "  .colab-df-quickchart-complete:disabled,\n",
              "  .colab-df-quickchart-complete:disabled:hover {\n",
              "    background-color: var(--disabled-bg-color);\n",
              "    fill: var(--disabled-fill-color);\n",
              "    box-shadow: none;\n",
              "  }\n",
              "\n",
              "  .colab-df-spinner {\n",
              "    border: 2px solid var(--fill-color);\n",
              "    border-color: transparent;\n",
              "    border-bottom-color: var(--fill-color);\n",
              "    animation:\n",
              "      spin 1s steps(1) infinite;\n",
              "  }\n",
              "\n",
              "  @keyframes spin {\n",
              "    0% {\n",
              "      border-color: transparent;\n",
              "      border-bottom-color: var(--fill-color);\n",
              "      border-left-color: var(--fill-color);\n",
              "    }\n",
              "    20% {\n",
              "      border-color: transparent;\n",
              "      border-left-color: var(--fill-color);\n",
              "      border-top-color: var(--fill-color);\n",
              "    }\n",
              "    30% {\n",
              "      border-color: transparent;\n",
              "      border-left-color: var(--fill-color);\n",
              "      border-top-color: var(--fill-color);\n",
              "      border-right-color: var(--fill-color);\n",
              "    }\n",
              "    40% {\n",
              "      border-color: transparent;\n",
              "      border-right-color: var(--fill-color);\n",
              "      border-top-color: var(--fill-color);\n",
              "    }\n",
              "    60% {\n",
              "      border-color: transparent;\n",
              "      border-right-color: var(--fill-color);\n",
              "    }\n",
              "    80% {\n",
              "      border-color: transparent;\n",
              "      border-right-color: var(--fill-color);\n",
              "      border-bottom-color: var(--fill-color);\n",
              "    }\n",
              "    90% {\n",
              "      border-color: transparent;\n",
              "      border-bottom-color: var(--fill-color);\n",
              "    }\n",
              "  }\n",
              "</style>\n",
              "\n",
              "  <script>\n",
              "    async function quickchart(key) {\n",
              "      const quickchartButtonEl =\n",
              "        document.querySelector('#' + key + ' button');\n",
              "      quickchartButtonEl.disabled = true;  // To prevent multiple clicks.\n",
              "      quickchartButtonEl.classList.add('colab-df-spinner');\n",
              "      try {\n",
              "        const charts = await google.colab.kernel.invokeFunction(\n",
              "            'suggestCharts', [key], {});\n",
              "      } catch (error) {\n",
              "        console.error('Error during call to suggestCharts:', error);\n",
              "      }\n",
              "      quickchartButtonEl.classList.remove('colab-df-spinner');\n",
              "      quickchartButtonEl.classList.add('colab-df-quickchart-complete');\n",
              "    }\n",
              "    (() => {\n",
              "      let quickchartButtonEl =\n",
              "        document.querySelector('#df-d5d4ef30-9e40-4c2b-bad3-0bf62ffc6181 button');\n",
              "      quickchartButtonEl.style.display =\n",
              "        google.colab.kernel.accessAllowed ? 'block' : 'none';\n",
              "    })();\n",
              "  </script>\n",
              "</div>\n",
              "    </div>\n",
              "  </div>\n"
            ]
          },
          "metadata": {},
          "execution_count": 16
        }
      ]
    },
    {
      "cell_type": "code",
      "source": [
        "# change data type\n",
        "df_optin['receive_time']=pd.to_datetime(df_optin['receive_time'])\n",
        "df_optin['last_connection']=pd.to_datetime(df_optin['last_connection'])"
      ],
      "metadata": {
        "id": "h2gmKbP2AeYQ"
      },
      "execution_count": null,
      "outputs": []
    },
    {
      "cell_type": "code",
      "source": [
        "df_optin.info()"
      ],
      "metadata": {
        "colab": {
          "base_uri": "https://localhost:8080/"
        },
        "id": "eNe-KT_sAKIL",
        "outputId": "0239912b-2d60-49ec-9970-f77dae9d2f73"
      },
      "execution_count": null,
      "outputs": [
        {
          "output_type": "stream",
          "name": "stdout",
          "text": [
            "<class 'pandas.core.frame.DataFrame'>\n",
            "RangeIndex: 528928 entries, 0 to 528927\n",
            "Data columns (total 7 columns):\n",
            " #   Column           Non-Null Count   Dtype         \n",
            "---  ------           --------------   -----         \n",
            " 0   user_id          528928 non-null  object        \n",
            " 1   receive_time     528928 non-null  datetime64[ns]\n",
            " 2   toggle_cause     528928 non-null  object        \n",
            " 3   active           528928 non-null  bool          \n",
            " 4   school_id        528928 non-null  object        \n",
            " 5   last_connection  528928 non-null  datetime64[ns]\n",
            " 6   resume_uploaded  528928 non-null  bool          \n",
            "dtypes: bool(2), datetime64[ns](2), object(3)\n",
            "memory usage: 21.2+ MB\n"
          ]
        }
      ]
    },
    {
      "cell_type": "code",
      "source": [
        "df_optin.head()"
      ],
      "metadata": {
        "colab": {
          "base_uri": "https://localhost:8080/",
          "height": 486
        },
        "id": "Ri0X94dUAwYk",
        "outputId": "3849e287-4d27-47b7-87da-927b754b44f2"
      },
      "execution_count": null,
      "outputs": [
        {
          "output_type": "execute_result",
          "data": {
            "text/plain": [
              "                                user_id        receive_time toggle_cause  \\\n",
              "0  46ecd1cd-dc0c-46dd-8d1d-c2b213c1d1a5 2020-06-17 16:58:00       manual   \n",
              "1  e77c48cd-32c1-4877-8678-fd2609edd817 2020-08-12 11:52:00       manual   \n",
              "2  70f9e518-9cab-4c50-82b7-4ab239cff3e9 2020-02-16 10:39:00       manual   \n",
              "3  2affd93e-6351-4d10-80bb-c6db308f2ca3 2020-03-22 14:08:00       manual   \n",
              "4  a930ec9d-e0bf-4e2b-9425-06561848d93f 2019-10-15 16:42:00       manual   \n",
              "\n",
              "   active                             school_id     last_connection  \\\n",
              "0   False  007af60e-7795-462a-a7b9-ee666ff37a11 2020-06-17 16:53:00   \n",
              "1   False  0087df51-763a-4f03-9f77-2d259b1c487a 2020-08-12 11:41:00   \n",
              "2   False  0087df51-763a-4f03-9f77-2d259b1c487a 2020-02-16 10:35:00   \n",
              "3   False  0087df51-763a-4f03-9f77-2d259b1c487a 2020-03-22 14:33:00   \n",
              "4   False  00a4aceb-ac50-4a42-8c13-bc5164c34480 2019-10-15 16:33:00   \n",
              "\n",
              "   resume_uploaded  \n",
              "0            False  \n",
              "1            False  \n",
              "2            False  \n",
              "3            False  \n",
              "4            False  "
            ],
            "text/html": [
              "\n",
              "  <div id=\"df-d5b3b071-da59-474b-a2fe-7d2c38001703\" class=\"colab-df-container\">\n",
              "    <div>\n",
              "<style scoped>\n",
              "    .dataframe tbody tr th:only-of-type {\n",
              "        vertical-align: middle;\n",
              "    }\n",
              "\n",
              "    .dataframe tbody tr th {\n",
              "        vertical-align: top;\n",
              "    }\n",
              "\n",
              "    .dataframe thead th {\n",
              "        text-align: right;\n",
              "    }\n",
              "</style>\n",
              "<table border=\"1\" class=\"dataframe\">\n",
              "  <thead>\n",
              "    <tr style=\"text-align: right;\">\n",
              "      <th></th>\n",
              "      <th>user_id</th>\n",
              "      <th>receive_time</th>\n",
              "      <th>toggle_cause</th>\n",
              "      <th>active</th>\n",
              "      <th>school_id</th>\n",
              "      <th>last_connection</th>\n",
              "      <th>resume_uploaded</th>\n",
              "    </tr>\n",
              "  </thead>\n",
              "  <tbody>\n",
              "    <tr>\n",
              "      <th>0</th>\n",
              "      <td>46ecd1cd-dc0c-46dd-8d1d-c2b213c1d1a5</td>\n",
              "      <td>2020-06-17 16:58:00</td>\n",
              "      <td>manual</td>\n",
              "      <td>False</td>\n",
              "      <td>007af60e-7795-462a-a7b9-ee666ff37a11</td>\n",
              "      <td>2020-06-17 16:53:00</td>\n",
              "      <td>False</td>\n",
              "    </tr>\n",
              "    <tr>\n",
              "      <th>1</th>\n",
              "      <td>e77c48cd-32c1-4877-8678-fd2609edd817</td>\n",
              "      <td>2020-08-12 11:52:00</td>\n",
              "      <td>manual</td>\n",
              "      <td>False</td>\n",
              "      <td>0087df51-763a-4f03-9f77-2d259b1c487a</td>\n",
              "      <td>2020-08-12 11:41:00</td>\n",
              "      <td>False</td>\n",
              "    </tr>\n",
              "    <tr>\n",
              "      <th>2</th>\n",
              "      <td>70f9e518-9cab-4c50-82b7-4ab239cff3e9</td>\n",
              "      <td>2020-02-16 10:39:00</td>\n",
              "      <td>manual</td>\n",
              "      <td>False</td>\n",
              "      <td>0087df51-763a-4f03-9f77-2d259b1c487a</td>\n",
              "      <td>2020-02-16 10:35:00</td>\n",
              "      <td>False</td>\n",
              "    </tr>\n",
              "    <tr>\n",
              "      <th>3</th>\n",
              "      <td>2affd93e-6351-4d10-80bb-c6db308f2ca3</td>\n",
              "      <td>2020-03-22 14:08:00</td>\n",
              "      <td>manual</td>\n",
              "      <td>False</td>\n",
              "      <td>0087df51-763a-4f03-9f77-2d259b1c487a</td>\n",
              "      <td>2020-03-22 14:33:00</td>\n",
              "      <td>False</td>\n",
              "    </tr>\n",
              "    <tr>\n",
              "      <th>4</th>\n",
              "      <td>a930ec9d-e0bf-4e2b-9425-06561848d93f</td>\n",
              "      <td>2019-10-15 16:42:00</td>\n",
              "      <td>manual</td>\n",
              "      <td>False</td>\n",
              "      <td>00a4aceb-ac50-4a42-8c13-bc5164c34480</td>\n",
              "      <td>2019-10-15 16:33:00</td>\n",
              "      <td>False</td>\n",
              "    </tr>\n",
              "  </tbody>\n",
              "</table>\n",
              "</div>\n",
              "    <div class=\"colab-df-buttons\">\n",
              "\n",
              "  <div class=\"colab-df-container\">\n",
              "    <button class=\"colab-df-convert\" onclick=\"convertToInteractive('df-d5b3b071-da59-474b-a2fe-7d2c38001703')\"\n",
              "            title=\"Convert this dataframe to an interactive table.\"\n",
              "            style=\"display:none;\">\n",
              "\n",
              "  <svg xmlns=\"http://www.w3.org/2000/svg\" height=\"24px\" viewBox=\"0 -960 960 960\">\n",
              "    <path d=\"M120-120v-720h720v720H120Zm60-500h600v-160H180v160Zm220 220h160v-160H400v160Zm0 220h160v-160H400v160ZM180-400h160v-160H180v160Zm440 0h160v-160H620v160ZM180-180h160v-160H180v160Zm440 0h160v-160H620v160Z\"/>\n",
              "  </svg>\n",
              "    </button>\n",
              "\n",
              "  <style>\n",
              "    .colab-df-container {\n",
              "      display:flex;\n",
              "      gap: 12px;\n",
              "    }\n",
              "\n",
              "    .colab-df-convert {\n",
              "      background-color: #E8F0FE;\n",
              "      border: none;\n",
              "      border-radius: 50%;\n",
              "      cursor: pointer;\n",
              "      display: none;\n",
              "      fill: #1967D2;\n",
              "      height: 32px;\n",
              "      padding: 0 0 0 0;\n",
              "      width: 32px;\n",
              "    }\n",
              "\n",
              "    .colab-df-convert:hover {\n",
              "      background-color: #E2EBFA;\n",
              "      box-shadow: 0px 1px 2px rgba(60, 64, 67, 0.3), 0px 1px 3px 1px rgba(60, 64, 67, 0.15);\n",
              "      fill: #174EA6;\n",
              "    }\n",
              "\n",
              "    .colab-df-buttons div {\n",
              "      margin-bottom: 4px;\n",
              "    }\n",
              "\n",
              "    [theme=dark] .colab-df-convert {\n",
              "      background-color: #3B4455;\n",
              "      fill: #D2E3FC;\n",
              "    }\n",
              "\n",
              "    [theme=dark] .colab-df-convert:hover {\n",
              "      background-color: #434B5C;\n",
              "      box-shadow: 0px 1px 3px 1px rgba(0, 0, 0, 0.15);\n",
              "      filter: drop-shadow(0px 1px 2px rgba(0, 0, 0, 0.3));\n",
              "      fill: #FFFFFF;\n",
              "    }\n",
              "  </style>\n",
              "\n",
              "    <script>\n",
              "      const buttonEl =\n",
              "        document.querySelector('#df-d5b3b071-da59-474b-a2fe-7d2c38001703 button.colab-df-convert');\n",
              "      buttonEl.style.display =\n",
              "        google.colab.kernel.accessAllowed ? 'block' : 'none';\n",
              "\n",
              "      async function convertToInteractive(key) {\n",
              "        const element = document.querySelector('#df-d5b3b071-da59-474b-a2fe-7d2c38001703');\n",
              "        const dataTable =\n",
              "          await google.colab.kernel.invokeFunction('convertToInteractive',\n",
              "                                                    [key], {});\n",
              "        if (!dataTable) return;\n",
              "\n",
              "        const docLinkHtml = 'Like what you see? Visit the ' +\n",
              "          '<a target=\"_blank\" href=https://colab.research.google.com/notebooks/data_table.ipynb>data table notebook</a>'\n",
              "          + ' to learn more about interactive tables.';\n",
              "        element.innerHTML = '';\n",
              "        dataTable['output_type'] = 'display_data';\n",
              "        await google.colab.output.renderOutput(dataTable, element);\n",
              "        const docLink = document.createElement('div');\n",
              "        docLink.innerHTML = docLinkHtml;\n",
              "        element.appendChild(docLink);\n",
              "      }\n",
              "    </script>\n",
              "  </div>\n",
              "\n",
              "\n",
              "<div id=\"df-1934798c-3316-446a-99e3-fb861eb986ad\">\n",
              "  <button class=\"colab-df-quickchart\" onclick=\"quickchart('df-1934798c-3316-446a-99e3-fb861eb986ad')\"\n",
              "            title=\"Suggest charts\"\n",
              "            style=\"display:none;\">\n",
              "\n",
              "<svg xmlns=\"http://www.w3.org/2000/svg\" height=\"24px\"viewBox=\"0 0 24 24\"\n",
              "     width=\"24px\">\n",
              "    <g>\n",
              "        <path d=\"M19 3H5c-1.1 0-2 .9-2 2v14c0 1.1.9 2 2 2h14c1.1 0 2-.9 2-2V5c0-1.1-.9-2-2-2zM9 17H7v-7h2v7zm4 0h-2V7h2v10zm4 0h-2v-4h2v4z\"/>\n",
              "    </g>\n",
              "</svg>\n",
              "  </button>\n",
              "\n",
              "<style>\n",
              "  .colab-df-quickchart {\n",
              "      --bg-color: #E8F0FE;\n",
              "      --fill-color: #1967D2;\n",
              "      --hover-bg-color: #E2EBFA;\n",
              "      --hover-fill-color: #174EA6;\n",
              "      --disabled-fill-color: #AAA;\n",
              "      --disabled-bg-color: #DDD;\n",
              "  }\n",
              "\n",
              "  [theme=dark] .colab-df-quickchart {\n",
              "      --bg-color: #3B4455;\n",
              "      --fill-color: #D2E3FC;\n",
              "      --hover-bg-color: #434B5C;\n",
              "      --hover-fill-color: #FFFFFF;\n",
              "      --disabled-bg-color: #3B4455;\n",
              "      --disabled-fill-color: #666;\n",
              "  }\n",
              "\n",
              "  .colab-df-quickchart {\n",
              "    background-color: var(--bg-color);\n",
              "    border: none;\n",
              "    border-radius: 50%;\n",
              "    cursor: pointer;\n",
              "    display: none;\n",
              "    fill: var(--fill-color);\n",
              "    height: 32px;\n",
              "    padding: 0;\n",
              "    width: 32px;\n",
              "  }\n",
              "\n",
              "  .colab-df-quickchart:hover {\n",
              "    background-color: var(--hover-bg-color);\n",
              "    box-shadow: 0 1px 2px rgba(60, 64, 67, 0.3), 0 1px 3px 1px rgba(60, 64, 67, 0.15);\n",
              "    fill: var(--button-hover-fill-color);\n",
              "  }\n",
              "\n",
              "  .colab-df-quickchart-complete:disabled,\n",
              "  .colab-df-quickchart-complete:disabled:hover {\n",
              "    background-color: var(--disabled-bg-color);\n",
              "    fill: var(--disabled-fill-color);\n",
              "    box-shadow: none;\n",
              "  }\n",
              "\n",
              "  .colab-df-spinner {\n",
              "    border: 2px solid var(--fill-color);\n",
              "    border-color: transparent;\n",
              "    border-bottom-color: var(--fill-color);\n",
              "    animation:\n",
              "      spin 1s steps(1) infinite;\n",
              "  }\n",
              "\n",
              "  @keyframes spin {\n",
              "    0% {\n",
              "      border-color: transparent;\n",
              "      border-bottom-color: var(--fill-color);\n",
              "      border-left-color: var(--fill-color);\n",
              "    }\n",
              "    20% {\n",
              "      border-color: transparent;\n",
              "      border-left-color: var(--fill-color);\n",
              "      border-top-color: var(--fill-color);\n",
              "    }\n",
              "    30% {\n",
              "      border-color: transparent;\n",
              "      border-left-color: var(--fill-color);\n",
              "      border-top-color: var(--fill-color);\n",
              "      border-right-color: var(--fill-color);\n",
              "    }\n",
              "    40% {\n",
              "      border-color: transparent;\n",
              "      border-right-color: var(--fill-color);\n",
              "      border-top-color: var(--fill-color);\n",
              "    }\n",
              "    60% {\n",
              "      border-color: transparent;\n",
              "      border-right-color: var(--fill-color);\n",
              "    }\n",
              "    80% {\n",
              "      border-color: transparent;\n",
              "      border-right-color: var(--fill-color);\n",
              "      border-bottom-color: var(--fill-color);\n",
              "    }\n",
              "    90% {\n",
              "      border-color: transparent;\n",
              "      border-bottom-color: var(--fill-color);\n",
              "    }\n",
              "  }\n",
              "</style>\n",
              "\n",
              "  <script>\n",
              "    async function quickchart(key) {\n",
              "      const quickchartButtonEl =\n",
              "        document.querySelector('#' + key + ' button');\n",
              "      quickchartButtonEl.disabled = true;  // To prevent multiple clicks.\n",
              "      quickchartButtonEl.classList.add('colab-df-spinner');\n",
              "      try {\n",
              "        const charts = await google.colab.kernel.invokeFunction(\n",
              "            'suggestCharts', [key], {});\n",
              "      } catch (error) {\n",
              "        console.error('Error during call to suggestCharts:', error);\n",
              "      }\n",
              "      quickchartButtonEl.classList.remove('colab-df-spinner');\n",
              "      quickchartButtonEl.classList.add('colab-df-quickchart-complete');\n",
              "    }\n",
              "    (() => {\n",
              "      let quickchartButtonEl =\n",
              "        document.querySelector('#df-1934798c-3316-446a-99e3-fb861eb986ad button');\n",
              "      quickchartButtonEl.style.display =\n",
              "        google.colab.kernel.accessAllowed ? 'block' : 'none';\n",
              "    })();\n",
              "  </script>\n",
              "</div>\n",
              "    </div>\n",
              "  </div>\n"
            ]
          },
          "metadata": {},
          "execution_count": 32
        }
      ]
    },
    {
      "cell_type": "code",
      "source": [
        "# for df_status\n",
        "# delete UTC From column to change it to datetime\n",
        "df_status['receive_time'] = df_status['receive_time'].str.replace(' UTC', '')\n",
        "df_status['last_connection'] = df_status['last_connection'].str.replace(' UTC', '')\n",
        "df_status"
      ],
      "metadata": {
        "colab": {
          "base_uri": "https://localhost:8080/",
          "height": 964
        },
        "id": "JbN2GsNCAk7K",
        "outputId": "2ae8cf63-4a32-4492-b37a-b77a86af499e"
      },
      "execution_count": null,
      "outputs": [
        {
          "output_type": "execute_result",
          "data": {
            "text/plain": [
              "                                    user_id         receive_time  \\\n",
              "0      7d7ea4ca-60b3-46a4-b285-499d5922cff5  2019-10-03 16:41:00   \n",
              "1      96219492-f7b5-45e1-b529-57c8432850e8  2019-10-01 15:17:00   \n",
              "2      c8fbaee9-4506-44e7-bb59-b6eb80a023ed  2019-08-26 11:41:00   \n",
              "3      c8fbaee9-4506-44e7-bb59-b6eb80a023ed  2019-09-04 08:31:00   \n",
              "4      c8fbaee9-4506-44e7-bb59-b6eb80a023ed  2019-09-30 17:38:00   \n",
              "...                                     ...                  ...   \n",
              "50390  e2c93e64-dfa3-4b18-a8d1-296d26848cb7  2020-09-02 09:23:00   \n",
              "50391  e5806434-277a-4bbb-9a96-d3db32e7de00  2020-07-09 16:01:00   \n",
              "50392  ed363d12-a88c-46b1-b6e8-b9b6b4b0322e  2020-03-20 09:08:00   \n",
              "50393  ed363d12-a88c-46b1-b6e8-b9b6b4b0322e  2020-03-19 15:38:00   \n",
              "50394  ed363d12-a88c-46b1-b6e8-b9b6b4b0322e  2020-03-19 14:16:00   \n",
              "\n",
              "                               shortlist_id   status_update   update_cause  \\\n",
              "0      878c2098-626c-4818-9215-d449ccccd46b        awaiting  auto-creation   \n",
              "1      8a37ed37-b9c5-4a54-8686-e578bf3ebeed        awaiting  auto-creation   \n",
              "2      c3de8641-56e3-416d-8cdd-f06db256784c        awaiting  auto-creation   \n",
              "3      f3b417fe-eea4-4a94-939d-0a270d0dd86d        awaiting  auto-creation   \n",
              "4      a61cf763-52c6-400a-999d-f807772fa3b2        awaiting  auto-creation   \n",
              "...                                     ...             ...            ...   \n",
              "50390  3ecbb71a-38fb-4f70-be0d-c4859a96f6aa  not interested   auto-timeout   \n",
              "50391  45f5b639-a468-4a42-8c5d-9b1116aa3a42  not interested   auto-timeout   \n",
              "50392  1fd7c5dd-bdef-49e5-96dd-da30b58f1cd7  not interested   auto-timeout   \n",
              "50393  2a2bcef8-f163-478c-96b6-4397ad326465  not interested   auto-timeout   \n",
              "50394  b23e9431-b80f-4443-b678-d9d336f293cf  not interested   auto-timeout   \n",
              "\n",
              "                                  school_id      last_connection  \n",
              "0      0101b57f-8f24-4741-81f6-b72fa5935248  2019-09-13 11:55:00  \n",
              "1      0101b57f-8f24-4741-81f6-b72fa5935248  2020-06-15 15:32:00  \n",
              "2      0269f3bb-2cae-4751-92c0-b6c0522a6d84  2020-10-29 10:28:00  \n",
              "3      0269f3bb-2cae-4751-92c0-b6c0522a6d84  2020-10-29 10:28:00  \n",
              "4      0269f3bb-2cae-4751-92c0-b6c0522a6d84  2020-10-29 10:28:00  \n",
              "...                                     ...                  ...  \n",
              "50390  ffebf613-0961-44d2-bd87-f9c3b1f5ed51  2020-09-10 09:28:00  \n",
              "50391  ffebf613-0961-44d2-bd87-f9c3b1f5ed51  2020-05-11 09:19:00  \n",
              "50392  ffebf613-0961-44d2-bd87-f9c3b1f5ed51  2019-12-04 14:48:00  \n",
              "50393  ffebf613-0961-44d2-bd87-f9c3b1f5ed51  2019-12-04 14:48:00  \n",
              "50394  ffebf613-0961-44d2-bd87-f9c3b1f5ed51  2019-12-04 14:48:00  \n",
              "\n",
              "[50395 rows x 7 columns]"
            ],
            "text/html": [
              "\n",
              "  <div id=\"df-5975c26d-47ed-49a3-befb-260a96f632f7\" class=\"colab-df-container\">\n",
              "    <div>\n",
              "<style scoped>\n",
              "    .dataframe tbody tr th:only-of-type {\n",
              "        vertical-align: middle;\n",
              "    }\n",
              "\n",
              "    .dataframe tbody tr th {\n",
              "        vertical-align: top;\n",
              "    }\n",
              "\n",
              "    .dataframe thead th {\n",
              "        text-align: right;\n",
              "    }\n",
              "</style>\n",
              "<table border=\"1\" class=\"dataframe\">\n",
              "  <thead>\n",
              "    <tr style=\"text-align: right;\">\n",
              "      <th></th>\n",
              "      <th>user_id</th>\n",
              "      <th>receive_time</th>\n",
              "      <th>shortlist_id</th>\n",
              "      <th>status_update</th>\n",
              "      <th>update_cause</th>\n",
              "      <th>school_id</th>\n",
              "      <th>last_connection</th>\n",
              "    </tr>\n",
              "  </thead>\n",
              "  <tbody>\n",
              "    <tr>\n",
              "      <th>0</th>\n",
              "      <td>7d7ea4ca-60b3-46a4-b285-499d5922cff5</td>\n",
              "      <td>2019-10-03 16:41:00</td>\n",
              "      <td>878c2098-626c-4818-9215-d449ccccd46b</td>\n",
              "      <td>awaiting</td>\n",
              "      <td>auto-creation</td>\n",
              "      <td>0101b57f-8f24-4741-81f6-b72fa5935248</td>\n",
              "      <td>2019-09-13 11:55:00</td>\n",
              "    </tr>\n",
              "    <tr>\n",
              "      <th>1</th>\n",
              "      <td>96219492-f7b5-45e1-b529-57c8432850e8</td>\n",
              "      <td>2019-10-01 15:17:00</td>\n",
              "      <td>8a37ed37-b9c5-4a54-8686-e578bf3ebeed</td>\n",
              "      <td>awaiting</td>\n",
              "      <td>auto-creation</td>\n",
              "      <td>0101b57f-8f24-4741-81f6-b72fa5935248</td>\n",
              "      <td>2020-06-15 15:32:00</td>\n",
              "    </tr>\n",
              "    <tr>\n",
              "      <th>2</th>\n",
              "      <td>c8fbaee9-4506-44e7-bb59-b6eb80a023ed</td>\n",
              "      <td>2019-08-26 11:41:00</td>\n",
              "      <td>c3de8641-56e3-416d-8cdd-f06db256784c</td>\n",
              "      <td>awaiting</td>\n",
              "      <td>auto-creation</td>\n",
              "      <td>0269f3bb-2cae-4751-92c0-b6c0522a6d84</td>\n",
              "      <td>2020-10-29 10:28:00</td>\n",
              "    </tr>\n",
              "    <tr>\n",
              "      <th>3</th>\n",
              "      <td>c8fbaee9-4506-44e7-bb59-b6eb80a023ed</td>\n",
              "      <td>2019-09-04 08:31:00</td>\n",
              "      <td>f3b417fe-eea4-4a94-939d-0a270d0dd86d</td>\n",
              "      <td>awaiting</td>\n",
              "      <td>auto-creation</td>\n",
              "      <td>0269f3bb-2cae-4751-92c0-b6c0522a6d84</td>\n",
              "      <td>2020-10-29 10:28:00</td>\n",
              "    </tr>\n",
              "    <tr>\n",
              "      <th>4</th>\n",
              "      <td>c8fbaee9-4506-44e7-bb59-b6eb80a023ed</td>\n",
              "      <td>2019-09-30 17:38:00</td>\n",
              "      <td>a61cf763-52c6-400a-999d-f807772fa3b2</td>\n",
              "      <td>awaiting</td>\n",
              "      <td>auto-creation</td>\n",
              "      <td>0269f3bb-2cae-4751-92c0-b6c0522a6d84</td>\n",
              "      <td>2020-10-29 10:28:00</td>\n",
              "    </tr>\n",
              "    <tr>\n",
              "      <th>...</th>\n",
              "      <td>...</td>\n",
              "      <td>...</td>\n",
              "      <td>...</td>\n",
              "      <td>...</td>\n",
              "      <td>...</td>\n",
              "      <td>...</td>\n",
              "      <td>...</td>\n",
              "    </tr>\n",
              "    <tr>\n",
              "      <th>50390</th>\n",
              "      <td>e2c93e64-dfa3-4b18-a8d1-296d26848cb7</td>\n",
              "      <td>2020-09-02 09:23:00</td>\n",
              "      <td>3ecbb71a-38fb-4f70-be0d-c4859a96f6aa</td>\n",
              "      <td>not interested</td>\n",
              "      <td>auto-timeout</td>\n",
              "      <td>ffebf613-0961-44d2-bd87-f9c3b1f5ed51</td>\n",
              "      <td>2020-09-10 09:28:00</td>\n",
              "    </tr>\n",
              "    <tr>\n",
              "      <th>50391</th>\n",
              "      <td>e5806434-277a-4bbb-9a96-d3db32e7de00</td>\n",
              "      <td>2020-07-09 16:01:00</td>\n",
              "      <td>45f5b639-a468-4a42-8c5d-9b1116aa3a42</td>\n",
              "      <td>not interested</td>\n",
              "      <td>auto-timeout</td>\n",
              "      <td>ffebf613-0961-44d2-bd87-f9c3b1f5ed51</td>\n",
              "      <td>2020-05-11 09:19:00</td>\n",
              "    </tr>\n",
              "    <tr>\n",
              "      <th>50392</th>\n",
              "      <td>ed363d12-a88c-46b1-b6e8-b9b6b4b0322e</td>\n",
              "      <td>2020-03-20 09:08:00</td>\n",
              "      <td>1fd7c5dd-bdef-49e5-96dd-da30b58f1cd7</td>\n",
              "      <td>not interested</td>\n",
              "      <td>auto-timeout</td>\n",
              "      <td>ffebf613-0961-44d2-bd87-f9c3b1f5ed51</td>\n",
              "      <td>2019-12-04 14:48:00</td>\n",
              "    </tr>\n",
              "    <tr>\n",
              "      <th>50393</th>\n",
              "      <td>ed363d12-a88c-46b1-b6e8-b9b6b4b0322e</td>\n",
              "      <td>2020-03-19 15:38:00</td>\n",
              "      <td>2a2bcef8-f163-478c-96b6-4397ad326465</td>\n",
              "      <td>not interested</td>\n",
              "      <td>auto-timeout</td>\n",
              "      <td>ffebf613-0961-44d2-bd87-f9c3b1f5ed51</td>\n",
              "      <td>2019-12-04 14:48:00</td>\n",
              "    </tr>\n",
              "    <tr>\n",
              "      <th>50394</th>\n",
              "      <td>ed363d12-a88c-46b1-b6e8-b9b6b4b0322e</td>\n",
              "      <td>2020-03-19 14:16:00</td>\n",
              "      <td>b23e9431-b80f-4443-b678-d9d336f293cf</td>\n",
              "      <td>not interested</td>\n",
              "      <td>auto-timeout</td>\n",
              "      <td>ffebf613-0961-44d2-bd87-f9c3b1f5ed51</td>\n",
              "      <td>2019-12-04 14:48:00</td>\n",
              "    </tr>\n",
              "  </tbody>\n",
              "</table>\n",
              "<p>50395 rows × 7 columns</p>\n",
              "</div>\n",
              "    <div class=\"colab-df-buttons\">\n",
              "\n",
              "  <div class=\"colab-df-container\">\n",
              "    <button class=\"colab-df-convert\" onclick=\"convertToInteractive('df-5975c26d-47ed-49a3-befb-260a96f632f7')\"\n",
              "            title=\"Convert this dataframe to an interactive table.\"\n",
              "            style=\"display:none;\">\n",
              "\n",
              "  <svg xmlns=\"http://www.w3.org/2000/svg\" height=\"24px\" viewBox=\"0 -960 960 960\">\n",
              "    <path d=\"M120-120v-720h720v720H120Zm60-500h600v-160H180v160Zm220 220h160v-160H400v160Zm0 220h160v-160H400v160ZM180-400h160v-160H180v160Zm440 0h160v-160H620v160ZM180-180h160v-160H180v160Zm440 0h160v-160H620v160Z\"/>\n",
              "  </svg>\n",
              "    </button>\n",
              "\n",
              "  <style>\n",
              "    .colab-df-container {\n",
              "      display:flex;\n",
              "      gap: 12px;\n",
              "    }\n",
              "\n",
              "    .colab-df-convert {\n",
              "      background-color: #E8F0FE;\n",
              "      border: none;\n",
              "      border-radius: 50%;\n",
              "      cursor: pointer;\n",
              "      display: none;\n",
              "      fill: #1967D2;\n",
              "      height: 32px;\n",
              "      padding: 0 0 0 0;\n",
              "      width: 32px;\n",
              "    }\n",
              "\n",
              "    .colab-df-convert:hover {\n",
              "      background-color: #E2EBFA;\n",
              "      box-shadow: 0px 1px 2px rgba(60, 64, 67, 0.3), 0px 1px 3px 1px rgba(60, 64, 67, 0.15);\n",
              "      fill: #174EA6;\n",
              "    }\n",
              "\n",
              "    .colab-df-buttons div {\n",
              "      margin-bottom: 4px;\n",
              "    }\n",
              "\n",
              "    [theme=dark] .colab-df-convert {\n",
              "      background-color: #3B4455;\n",
              "      fill: #D2E3FC;\n",
              "    }\n",
              "\n",
              "    [theme=dark] .colab-df-convert:hover {\n",
              "      background-color: #434B5C;\n",
              "      box-shadow: 0px 1px 3px 1px rgba(0, 0, 0, 0.15);\n",
              "      filter: drop-shadow(0px 1px 2px rgba(0, 0, 0, 0.3));\n",
              "      fill: #FFFFFF;\n",
              "    }\n",
              "  </style>\n",
              "\n",
              "    <script>\n",
              "      const buttonEl =\n",
              "        document.querySelector('#df-5975c26d-47ed-49a3-befb-260a96f632f7 button.colab-df-convert');\n",
              "      buttonEl.style.display =\n",
              "        google.colab.kernel.accessAllowed ? 'block' : 'none';\n",
              "\n",
              "      async function convertToInteractive(key) {\n",
              "        const element = document.querySelector('#df-5975c26d-47ed-49a3-befb-260a96f632f7');\n",
              "        const dataTable =\n",
              "          await google.colab.kernel.invokeFunction('convertToInteractive',\n",
              "                                                    [key], {});\n",
              "        if (!dataTable) return;\n",
              "\n",
              "        const docLinkHtml = 'Like what you see? Visit the ' +\n",
              "          '<a target=\"_blank\" href=https://colab.research.google.com/notebooks/data_table.ipynb>data table notebook</a>'\n",
              "          + ' to learn more about interactive tables.';\n",
              "        element.innerHTML = '';\n",
              "        dataTable['output_type'] = 'display_data';\n",
              "        await google.colab.output.renderOutput(dataTable, element);\n",
              "        const docLink = document.createElement('div');\n",
              "        docLink.innerHTML = docLinkHtml;\n",
              "        element.appendChild(docLink);\n",
              "      }\n",
              "    </script>\n",
              "  </div>\n",
              "\n",
              "\n",
              "<div id=\"df-0a0fe2fb-3a67-443b-be5e-6acc534a1b67\">\n",
              "  <button class=\"colab-df-quickchart\" onclick=\"quickchart('df-0a0fe2fb-3a67-443b-be5e-6acc534a1b67')\"\n",
              "            title=\"Suggest charts\"\n",
              "            style=\"display:none;\">\n",
              "\n",
              "<svg xmlns=\"http://www.w3.org/2000/svg\" height=\"24px\"viewBox=\"0 0 24 24\"\n",
              "     width=\"24px\">\n",
              "    <g>\n",
              "        <path d=\"M19 3H5c-1.1 0-2 .9-2 2v14c0 1.1.9 2 2 2h14c1.1 0 2-.9 2-2V5c0-1.1-.9-2-2-2zM9 17H7v-7h2v7zm4 0h-2V7h2v10zm4 0h-2v-4h2v4z\"/>\n",
              "    </g>\n",
              "</svg>\n",
              "  </button>\n",
              "\n",
              "<style>\n",
              "  .colab-df-quickchart {\n",
              "      --bg-color: #E8F0FE;\n",
              "      --fill-color: #1967D2;\n",
              "      --hover-bg-color: #E2EBFA;\n",
              "      --hover-fill-color: #174EA6;\n",
              "      --disabled-fill-color: #AAA;\n",
              "      --disabled-bg-color: #DDD;\n",
              "  }\n",
              "\n",
              "  [theme=dark] .colab-df-quickchart {\n",
              "      --bg-color: #3B4455;\n",
              "      --fill-color: #D2E3FC;\n",
              "      --hover-bg-color: #434B5C;\n",
              "      --hover-fill-color: #FFFFFF;\n",
              "      --disabled-bg-color: #3B4455;\n",
              "      --disabled-fill-color: #666;\n",
              "  }\n",
              "\n",
              "  .colab-df-quickchart {\n",
              "    background-color: var(--bg-color);\n",
              "    border: none;\n",
              "    border-radius: 50%;\n",
              "    cursor: pointer;\n",
              "    display: none;\n",
              "    fill: var(--fill-color);\n",
              "    height: 32px;\n",
              "    padding: 0;\n",
              "    width: 32px;\n",
              "  }\n",
              "\n",
              "  .colab-df-quickchart:hover {\n",
              "    background-color: var(--hover-bg-color);\n",
              "    box-shadow: 0 1px 2px rgba(60, 64, 67, 0.3), 0 1px 3px 1px rgba(60, 64, 67, 0.15);\n",
              "    fill: var(--button-hover-fill-color);\n",
              "  }\n",
              "\n",
              "  .colab-df-quickchart-complete:disabled,\n",
              "  .colab-df-quickchart-complete:disabled:hover {\n",
              "    background-color: var(--disabled-bg-color);\n",
              "    fill: var(--disabled-fill-color);\n",
              "    box-shadow: none;\n",
              "  }\n",
              "\n",
              "  .colab-df-spinner {\n",
              "    border: 2px solid var(--fill-color);\n",
              "    border-color: transparent;\n",
              "    border-bottom-color: var(--fill-color);\n",
              "    animation:\n",
              "      spin 1s steps(1) infinite;\n",
              "  }\n",
              "\n",
              "  @keyframes spin {\n",
              "    0% {\n",
              "      border-color: transparent;\n",
              "      border-bottom-color: var(--fill-color);\n",
              "      border-left-color: var(--fill-color);\n",
              "    }\n",
              "    20% {\n",
              "      border-color: transparent;\n",
              "      border-left-color: var(--fill-color);\n",
              "      border-top-color: var(--fill-color);\n",
              "    }\n",
              "    30% {\n",
              "      border-color: transparent;\n",
              "      border-left-color: var(--fill-color);\n",
              "      border-top-color: var(--fill-color);\n",
              "      border-right-color: var(--fill-color);\n",
              "    }\n",
              "    40% {\n",
              "      border-color: transparent;\n",
              "      border-right-color: var(--fill-color);\n",
              "      border-top-color: var(--fill-color);\n",
              "    }\n",
              "    60% {\n",
              "      border-color: transparent;\n",
              "      border-right-color: var(--fill-color);\n",
              "    }\n",
              "    80% {\n",
              "      border-color: transparent;\n",
              "      border-right-color: var(--fill-color);\n",
              "      border-bottom-color: var(--fill-color);\n",
              "    }\n",
              "    90% {\n",
              "      border-color: transparent;\n",
              "      border-bottom-color: var(--fill-color);\n",
              "    }\n",
              "  }\n",
              "</style>\n",
              "\n",
              "  <script>\n",
              "    async function quickchart(key) {\n",
              "      const quickchartButtonEl =\n",
              "        document.querySelector('#' + key + ' button');\n",
              "      quickchartButtonEl.disabled = true;  // To prevent multiple clicks.\n",
              "      quickchartButtonEl.classList.add('colab-df-spinner');\n",
              "      try {\n",
              "        const charts = await google.colab.kernel.invokeFunction(\n",
              "            'suggestCharts', [key], {});\n",
              "      } catch (error) {\n",
              "        console.error('Error during call to suggestCharts:', error);\n",
              "      }\n",
              "      quickchartButtonEl.classList.remove('colab-df-spinner');\n",
              "      quickchartButtonEl.classList.add('colab-df-quickchart-complete');\n",
              "    }\n",
              "    (() => {\n",
              "      let quickchartButtonEl =\n",
              "        document.querySelector('#df-0a0fe2fb-3a67-443b-be5e-6acc534a1b67 button');\n",
              "      quickchartButtonEl.style.display =\n",
              "        google.colab.kernel.accessAllowed ? 'block' : 'none';\n",
              "    })();\n",
              "  </script>\n",
              "</div>\n",
              "    </div>\n",
              "  </div>\n"
            ]
          },
          "metadata": {},
          "execution_count": 18
        }
      ]
    },
    {
      "cell_type": "code",
      "source": [
        "# change data type\n",
        "df_status['receive_time']=pd.to_datetime(df_status['receive_time'])\n",
        "df_status['last_connection']=pd.to_datetime(df_status['last_connection'])"
      ],
      "metadata": {
        "id": "_kT_kWOBBZ2l"
      },
      "execution_count": null,
      "outputs": []
    },
    {
      "cell_type": "code",
      "source": [
        "df_status.info()"
      ],
      "metadata": {
        "colab": {
          "base_uri": "https://localhost:8080/"
        },
        "id": "OO_4H_ICBZ1D",
        "outputId": "7229da88-4b01-4c0c-91a0-b7f056dc075b"
      },
      "execution_count": null,
      "outputs": [
        {
          "output_type": "stream",
          "name": "stdout",
          "text": [
            "<class 'pandas.core.frame.DataFrame'>\n",
            "RangeIndex: 50395 entries, 0 to 50394\n",
            "Data columns (total 7 columns):\n",
            " #   Column           Non-Null Count  Dtype         \n",
            "---  ------           --------------  -----         \n",
            " 0   user_id          50395 non-null  object        \n",
            " 1   receive_time     50395 non-null  datetime64[ns]\n",
            " 2   shortlist_id     50395 non-null  object        \n",
            " 3   status_update    50395 non-null  object        \n",
            " 4   update_cause     50395 non-null  object        \n",
            " 5   school_id        50395 non-null  object        \n",
            " 6   last_connection  50395 non-null  datetime64[ns]\n",
            "dtypes: datetime64[ns](2), object(5)\n",
            "memory usage: 2.7+ MB\n"
          ]
        }
      ]
    },
    {
      "cell_type": "code",
      "source": [
        "df_status.head()"
      ],
      "metadata": {
        "colab": {
          "base_uri": "https://localhost:8080/",
          "height": 486
        },
        "id": "XYoSRUUzBnmr",
        "outputId": "337372fe-b226-4307-ec85-969c472821d4"
      },
      "execution_count": null,
      "outputs": [
        {
          "output_type": "execute_result",
          "data": {
            "text/plain": [
              "                                user_id        receive_time  \\\n",
              "0  7d7ea4ca-60b3-46a4-b285-499d5922cff5 2019-10-03 16:41:00   \n",
              "1  96219492-f7b5-45e1-b529-57c8432850e8 2019-10-01 15:17:00   \n",
              "2  c8fbaee9-4506-44e7-bb59-b6eb80a023ed 2019-08-26 11:41:00   \n",
              "3  c8fbaee9-4506-44e7-bb59-b6eb80a023ed 2019-09-04 08:31:00   \n",
              "4  c8fbaee9-4506-44e7-bb59-b6eb80a023ed 2019-09-30 17:38:00   \n",
              "\n",
              "                           shortlist_id status_update   update_cause  \\\n",
              "0  878c2098-626c-4818-9215-d449ccccd46b      awaiting  auto-creation   \n",
              "1  8a37ed37-b9c5-4a54-8686-e578bf3ebeed      awaiting  auto-creation   \n",
              "2  c3de8641-56e3-416d-8cdd-f06db256784c      awaiting  auto-creation   \n",
              "3  f3b417fe-eea4-4a94-939d-0a270d0dd86d      awaiting  auto-creation   \n",
              "4  a61cf763-52c6-400a-999d-f807772fa3b2      awaiting  auto-creation   \n",
              "\n",
              "                              school_id     last_connection  \n",
              "0  0101b57f-8f24-4741-81f6-b72fa5935248 2019-09-13 11:55:00  \n",
              "1  0101b57f-8f24-4741-81f6-b72fa5935248 2020-06-15 15:32:00  \n",
              "2  0269f3bb-2cae-4751-92c0-b6c0522a6d84 2020-10-29 10:28:00  \n",
              "3  0269f3bb-2cae-4751-92c0-b6c0522a6d84 2020-10-29 10:28:00  \n",
              "4  0269f3bb-2cae-4751-92c0-b6c0522a6d84 2020-10-29 10:28:00  "
            ],
            "text/html": [
              "\n",
              "  <div id=\"df-5ea4a444-45f8-4541-abe4-e0f423d8fee0\" class=\"colab-df-container\">\n",
              "    <div>\n",
              "<style scoped>\n",
              "    .dataframe tbody tr th:only-of-type {\n",
              "        vertical-align: middle;\n",
              "    }\n",
              "\n",
              "    .dataframe tbody tr th {\n",
              "        vertical-align: top;\n",
              "    }\n",
              "\n",
              "    .dataframe thead th {\n",
              "        text-align: right;\n",
              "    }\n",
              "</style>\n",
              "<table border=\"1\" class=\"dataframe\">\n",
              "  <thead>\n",
              "    <tr style=\"text-align: right;\">\n",
              "      <th></th>\n",
              "      <th>user_id</th>\n",
              "      <th>receive_time</th>\n",
              "      <th>shortlist_id</th>\n",
              "      <th>status_update</th>\n",
              "      <th>update_cause</th>\n",
              "      <th>school_id</th>\n",
              "      <th>last_connection</th>\n",
              "    </tr>\n",
              "  </thead>\n",
              "  <tbody>\n",
              "    <tr>\n",
              "      <th>0</th>\n",
              "      <td>7d7ea4ca-60b3-46a4-b285-499d5922cff5</td>\n",
              "      <td>2019-10-03 16:41:00</td>\n",
              "      <td>878c2098-626c-4818-9215-d449ccccd46b</td>\n",
              "      <td>awaiting</td>\n",
              "      <td>auto-creation</td>\n",
              "      <td>0101b57f-8f24-4741-81f6-b72fa5935248</td>\n",
              "      <td>2019-09-13 11:55:00</td>\n",
              "    </tr>\n",
              "    <tr>\n",
              "      <th>1</th>\n",
              "      <td>96219492-f7b5-45e1-b529-57c8432850e8</td>\n",
              "      <td>2019-10-01 15:17:00</td>\n",
              "      <td>8a37ed37-b9c5-4a54-8686-e578bf3ebeed</td>\n",
              "      <td>awaiting</td>\n",
              "      <td>auto-creation</td>\n",
              "      <td>0101b57f-8f24-4741-81f6-b72fa5935248</td>\n",
              "      <td>2020-06-15 15:32:00</td>\n",
              "    </tr>\n",
              "    <tr>\n",
              "      <th>2</th>\n",
              "      <td>c8fbaee9-4506-44e7-bb59-b6eb80a023ed</td>\n",
              "      <td>2019-08-26 11:41:00</td>\n",
              "      <td>c3de8641-56e3-416d-8cdd-f06db256784c</td>\n",
              "      <td>awaiting</td>\n",
              "      <td>auto-creation</td>\n",
              "      <td>0269f3bb-2cae-4751-92c0-b6c0522a6d84</td>\n",
              "      <td>2020-10-29 10:28:00</td>\n",
              "    </tr>\n",
              "    <tr>\n",
              "      <th>3</th>\n",
              "      <td>c8fbaee9-4506-44e7-bb59-b6eb80a023ed</td>\n",
              "      <td>2019-09-04 08:31:00</td>\n",
              "      <td>f3b417fe-eea4-4a94-939d-0a270d0dd86d</td>\n",
              "      <td>awaiting</td>\n",
              "      <td>auto-creation</td>\n",
              "      <td>0269f3bb-2cae-4751-92c0-b6c0522a6d84</td>\n",
              "      <td>2020-10-29 10:28:00</td>\n",
              "    </tr>\n",
              "    <tr>\n",
              "      <th>4</th>\n",
              "      <td>c8fbaee9-4506-44e7-bb59-b6eb80a023ed</td>\n",
              "      <td>2019-09-30 17:38:00</td>\n",
              "      <td>a61cf763-52c6-400a-999d-f807772fa3b2</td>\n",
              "      <td>awaiting</td>\n",
              "      <td>auto-creation</td>\n",
              "      <td>0269f3bb-2cae-4751-92c0-b6c0522a6d84</td>\n",
              "      <td>2020-10-29 10:28:00</td>\n",
              "    </tr>\n",
              "  </tbody>\n",
              "</table>\n",
              "</div>\n",
              "    <div class=\"colab-df-buttons\">\n",
              "\n",
              "  <div class=\"colab-df-container\">\n",
              "    <button class=\"colab-df-convert\" onclick=\"convertToInteractive('df-5ea4a444-45f8-4541-abe4-e0f423d8fee0')\"\n",
              "            title=\"Convert this dataframe to an interactive table.\"\n",
              "            style=\"display:none;\">\n",
              "\n",
              "  <svg xmlns=\"http://www.w3.org/2000/svg\" height=\"24px\" viewBox=\"0 -960 960 960\">\n",
              "    <path d=\"M120-120v-720h720v720H120Zm60-500h600v-160H180v160Zm220 220h160v-160H400v160Zm0 220h160v-160H400v160ZM180-400h160v-160H180v160Zm440 0h160v-160H620v160ZM180-180h160v-160H180v160Zm440 0h160v-160H620v160Z\"/>\n",
              "  </svg>\n",
              "    </button>\n",
              "\n",
              "  <style>\n",
              "    .colab-df-container {\n",
              "      display:flex;\n",
              "      gap: 12px;\n",
              "    }\n",
              "\n",
              "    .colab-df-convert {\n",
              "      background-color: #E8F0FE;\n",
              "      border: none;\n",
              "      border-radius: 50%;\n",
              "      cursor: pointer;\n",
              "      display: none;\n",
              "      fill: #1967D2;\n",
              "      height: 32px;\n",
              "      padding: 0 0 0 0;\n",
              "      width: 32px;\n",
              "    }\n",
              "\n",
              "    .colab-df-convert:hover {\n",
              "      background-color: #E2EBFA;\n",
              "      box-shadow: 0px 1px 2px rgba(60, 64, 67, 0.3), 0px 1px 3px 1px rgba(60, 64, 67, 0.15);\n",
              "      fill: #174EA6;\n",
              "    }\n",
              "\n",
              "    .colab-df-buttons div {\n",
              "      margin-bottom: 4px;\n",
              "    }\n",
              "\n",
              "    [theme=dark] .colab-df-convert {\n",
              "      background-color: #3B4455;\n",
              "      fill: #D2E3FC;\n",
              "    }\n",
              "\n",
              "    [theme=dark] .colab-df-convert:hover {\n",
              "      background-color: #434B5C;\n",
              "      box-shadow: 0px 1px 3px 1px rgba(0, 0, 0, 0.15);\n",
              "      filter: drop-shadow(0px 1px 2px rgba(0, 0, 0, 0.3));\n",
              "      fill: #FFFFFF;\n",
              "    }\n",
              "  </style>\n",
              "\n",
              "    <script>\n",
              "      const buttonEl =\n",
              "        document.querySelector('#df-5ea4a444-45f8-4541-abe4-e0f423d8fee0 button.colab-df-convert');\n",
              "      buttonEl.style.display =\n",
              "        google.colab.kernel.accessAllowed ? 'block' : 'none';\n",
              "\n",
              "      async function convertToInteractive(key) {\n",
              "        const element = document.querySelector('#df-5ea4a444-45f8-4541-abe4-e0f423d8fee0');\n",
              "        const dataTable =\n",
              "          await google.colab.kernel.invokeFunction('convertToInteractive',\n",
              "                                                    [key], {});\n",
              "        if (!dataTable) return;\n",
              "\n",
              "        const docLinkHtml = 'Like what you see? Visit the ' +\n",
              "          '<a target=\"_blank\" href=https://colab.research.google.com/notebooks/data_table.ipynb>data table notebook</a>'\n",
              "          + ' to learn more about interactive tables.';\n",
              "        element.innerHTML = '';\n",
              "        dataTable['output_type'] = 'display_data';\n",
              "        await google.colab.output.renderOutput(dataTable, element);\n",
              "        const docLink = document.createElement('div');\n",
              "        docLink.innerHTML = docLinkHtml;\n",
              "        element.appendChild(docLink);\n",
              "      }\n",
              "    </script>\n",
              "  </div>\n",
              "\n",
              "\n",
              "<div id=\"df-adf6dd52-fc50-4412-afea-c58d8cb10221\">\n",
              "  <button class=\"colab-df-quickchart\" onclick=\"quickchart('df-adf6dd52-fc50-4412-afea-c58d8cb10221')\"\n",
              "            title=\"Suggest charts\"\n",
              "            style=\"display:none;\">\n",
              "\n",
              "<svg xmlns=\"http://www.w3.org/2000/svg\" height=\"24px\"viewBox=\"0 0 24 24\"\n",
              "     width=\"24px\">\n",
              "    <g>\n",
              "        <path d=\"M19 3H5c-1.1 0-2 .9-2 2v14c0 1.1.9 2 2 2h14c1.1 0 2-.9 2-2V5c0-1.1-.9-2-2-2zM9 17H7v-7h2v7zm4 0h-2V7h2v10zm4 0h-2v-4h2v4z\"/>\n",
              "    </g>\n",
              "</svg>\n",
              "  </button>\n",
              "\n",
              "<style>\n",
              "  .colab-df-quickchart {\n",
              "      --bg-color: #E8F0FE;\n",
              "      --fill-color: #1967D2;\n",
              "      --hover-bg-color: #E2EBFA;\n",
              "      --hover-fill-color: #174EA6;\n",
              "      --disabled-fill-color: #AAA;\n",
              "      --disabled-bg-color: #DDD;\n",
              "  }\n",
              "\n",
              "  [theme=dark] .colab-df-quickchart {\n",
              "      --bg-color: #3B4455;\n",
              "      --fill-color: #D2E3FC;\n",
              "      --hover-bg-color: #434B5C;\n",
              "      --hover-fill-color: #FFFFFF;\n",
              "      --disabled-bg-color: #3B4455;\n",
              "      --disabled-fill-color: #666;\n",
              "  }\n",
              "\n",
              "  .colab-df-quickchart {\n",
              "    background-color: var(--bg-color);\n",
              "    border: none;\n",
              "    border-radius: 50%;\n",
              "    cursor: pointer;\n",
              "    display: none;\n",
              "    fill: var(--fill-color);\n",
              "    height: 32px;\n",
              "    padding: 0;\n",
              "    width: 32px;\n",
              "  }\n",
              "\n",
              "  .colab-df-quickchart:hover {\n",
              "    background-color: var(--hover-bg-color);\n",
              "    box-shadow: 0 1px 2px rgba(60, 64, 67, 0.3), 0 1px 3px 1px rgba(60, 64, 67, 0.15);\n",
              "    fill: var(--button-hover-fill-color);\n",
              "  }\n",
              "\n",
              "  .colab-df-quickchart-complete:disabled,\n",
              "  .colab-df-quickchart-complete:disabled:hover {\n",
              "    background-color: var(--disabled-bg-color);\n",
              "    fill: var(--disabled-fill-color);\n",
              "    box-shadow: none;\n",
              "  }\n",
              "\n",
              "  .colab-df-spinner {\n",
              "    border: 2px solid var(--fill-color);\n",
              "    border-color: transparent;\n",
              "    border-bottom-color: var(--fill-color);\n",
              "    animation:\n",
              "      spin 1s steps(1) infinite;\n",
              "  }\n",
              "\n",
              "  @keyframes spin {\n",
              "    0% {\n",
              "      border-color: transparent;\n",
              "      border-bottom-color: var(--fill-color);\n",
              "      border-left-color: var(--fill-color);\n",
              "    }\n",
              "    20% {\n",
              "      border-color: transparent;\n",
              "      border-left-color: var(--fill-color);\n",
              "      border-top-color: var(--fill-color);\n",
              "    }\n",
              "    30% {\n",
              "      border-color: transparent;\n",
              "      border-left-color: var(--fill-color);\n",
              "      border-top-color: var(--fill-color);\n",
              "      border-right-color: var(--fill-color);\n",
              "    }\n",
              "    40% {\n",
              "      border-color: transparent;\n",
              "      border-right-color: var(--fill-color);\n",
              "      border-top-color: var(--fill-color);\n",
              "    }\n",
              "    60% {\n",
              "      border-color: transparent;\n",
              "      border-right-color: var(--fill-color);\n",
              "    }\n",
              "    80% {\n",
              "      border-color: transparent;\n",
              "      border-right-color: var(--fill-color);\n",
              "      border-bottom-color: var(--fill-color);\n",
              "    }\n",
              "    90% {\n",
              "      border-color: transparent;\n",
              "      border-bottom-color: var(--fill-color);\n",
              "    }\n",
              "  }\n",
              "</style>\n",
              "\n",
              "  <script>\n",
              "    async function quickchart(key) {\n",
              "      const quickchartButtonEl =\n",
              "        document.querySelector('#' + key + ' button');\n",
              "      quickchartButtonEl.disabled = true;  // To prevent multiple clicks.\n",
              "      quickchartButtonEl.classList.add('colab-df-spinner');\n",
              "      try {\n",
              "        const charts = await google.colab.kernel.invokeFunction(\n",
              "            'suggestCharts', [key], {});\n",
              "      } catch (error) {\n",
              "        console.error('Error during call to suggestCharts:', error);\n",
              "      }\n",
              "      quickchartButtonEl.classList.remove('colab-df-spinner');\n",
              "      quickchartButtonEl.classList.add('colab-df-quickchart-complete');\n",
              "    }\n",
              "    (() => {\n",
              "      let quickchartButtonEl =\n",
              "        document.querySelector('#df-adf6dd52-fc50-4412-afea-c58d8cb10221 button');\n",
              "      quickchartButtonEl.style.display =\n",
              "        google.colab.kernel.accessAllowed ? 'block' : 'none';\n",
              "    })();\n",
              "  </script>\n",
              "</div>\n",
              "    </div>\n",
              "  </div>\n"
            ]
          },
          "metadata": {},
          "execution_count": 36
        }
      ]
    },
    {
      "cell_type": "markdown",
      "source": [
        "# Hypothesis"
      ],
      "metadata": {
        "id": "bCfZh2hs7rYe"
      }
    },
    {
      "cell_type": "markdown",
      "source": [
        "## 1- students who opt-in to receive offers from companies via Shortlist are more likely to be interested in the offers and more likely to respond to them.\n",
        "(note: This hypothesis could be tested by comparing the response rate of students who have opted in to the response rate of students who have not opted in.)"
      ],
      "metadata": {
        "id": "HuAsfF9ifBE1"
      }
    },
    {
      "cell_type": "code",
      "source": [
        "merged_df = pd.merge(df_optin, df_status, on='user_id', how='inner')\n",
        "\n",
        "optin_group = merged_df[merged_df['active'] == True]\n",
        "optin_response_rate = len(optin_group[optin_group['status_update'].isin(['interested', 'approved'])]) / len(optin_group)\n",
        "\n",
        "non_optin_group = merged_df[merged_df['active'] == False]\n",
        "non_optin_response_rate = len(non_optin_group[non_optin_group['status_update'].isin(['interested', 'approved'])]) / len(non_optin_group)\n",
        "\n",
        "# Print the response rates\n",
        "print('students who have opted in(Total)', len(optin_group))\n",
        "print('students who have opted in(interested,approved) ', len(optin_group[optin_group['status_update'].isin(['interested', 'approved'])]))\n",
        "\n",
        "print('--------------------------------------------------------------------')\n",
        "print('students who have not opted in(Total)', len(non_optin_group))\n",
        "print('students who have not opted in(interested,approved)', len(non_optin_group[non_optin_group['status_update'].isin(['interested', 'approved'])]))\n",
        "print('--------------------------------------------------------------------')\n",
        "\n",
        "print(\"Response Rate for Opt-in Group: {:.2f}%\".format(optin_response_rate * 100))\n",
        "print(\"Response Rate for Non-opt-in Group: {:.2f}%\".format(non_optin_response_rate * 100))"
      ],
      "metadata": {
        "colab": {
          "base_uri": "https://localhost:8080/"
        },
        "id": "-hIY512VfDBn",
        "outputId": "29e399bd-5917-4636-e791-be5df58d3a3f"
      },
      "execution_count": null,
      "outputs": [
        {
          "output_type": "stream",
          "name": "stdout",
          "text": [
            "students who have opted in(Total) 76744\n",
            "students who have opted in(interested,approved)  16486\n",
            "--------------------------------------------------------------------\n",
            "students who have not opted in(Total) 51579\n",
            "students who have not opted in(interested,approved) 8110\n",
            "--------------------------------------------------------------------\n",
            "Response Rate for Opt-in Group: 21.48%\n",
            "Response Rate for Non-opt-in Group: 15.72%\n"
          ]
        }
      ]
    },
    {
      "cell_type": "markdown",
      "source": [
        "## 2- students who have uploaded their resumes to the Shortlist platform are more likely to be approved by recruiters.\n",
        "(note: This hypothesis could be tested by comparing the approval rate of students who have uploaded their resumes to the approval rate of students who have not uploaded their resumes.)"
      ],
      "metadata": {
        "id": "se6W4IV-il1K"
      }
    },
    {
      "cell_type": "code",
      "source": [
        "merged = df_optin.merge(df_status, on='user_id')# resume uploaded 127059 , 1264\n",
        "approved = merged[merged['status_update'] == 'approved'] #\n",
        "\n",
        "count_resume_yes = len(approved[approved['resume_uploaded'] == True])\n",
        "count_resume_no = len(approved[approved['resume_uploaded'] == False])\n",
        "\n",
        "prop_resume_yes = count_resume_yes / len(approved)\n",
        "prop_resume_no = count_resume_no / len(approved)\n",
        "\n",
        "print(\"Proportion approved with resume: {:.2f}%\".format(prop_resume_yes*100))\n",
        "print(\"Proportion approved without resume: {:.2f}%\".format(prop_resume_no*100))"
      ],
      "metadata": {
        "colab": {
          "base_uri": "https://localhost:8080/"
        },
        "id": "-CdcABnSio-1",
        "outputId": "9512dbfe-37f2-4033-deb3-f68badb339c3"
      },
      "execution_count": null,
      "outputs": [
        {
          "output_type": "stream",
          "name": "stdout",
          "text": [
            "Proportion approved with resume: 99.28%\n",
            "Proportion approved without resume: 0.72%\n"
          ]
        }
      ]
    },
    {
      "cell_type": "code",
      "source": [
        "count_resume_yes"
      ],
      "metadata": {
        "colab": {
          "base_uri": "https://localhost:8080/"
        },
        "id": "XlTaPOCKnjj1",
        "outputId": "180b10f3-ff4e-48ab-c465-06707d5eb000"
      },
      "execution_count": null,
      "outputs": [
        {
          "output_type": "execute_result",
          "data": {
            "text/plain": [
              "1792"
            ]
          },
          "metadata": {},
          "execution_count": 182
        }
      ]
    },
    {
      "cell_type": "code",
      "source": [
        "count_resume_no"
      ],
      "metadata": {
        "colab": {
          "base_uri": "https://localhost:8080/"
        },
        "id": "u75StLdBnnZy",
        "outputId": "dcf55205-bf67-47df-a097-a53018c655b4"
      },
      "execution_count": null,
      "outputs": [
        {
          "output_type": "execute_result",
          "data": {
            "text/plain": [
              "13"
            ]
          },
          "metadata": {},
          "execution_count": 183
        }
      ]
    },
    {
      "cell_type": "markdown",
      "source": [
        "## 3-  students from certain countries are more likely to opt in to receive offers from companies via Shortlist.\n",
        "(note:This hypothesis could be tested by comparing the opt-in rates of different countries )"
      ],
      "metadata": {
        "id": "8rP0yT6HsqRb"
      }
    },
    {
      "cell_type": "code",
      "source": [
        "# Merge opt-in and school data\n",
        "merged_df = df_optin.merge(df_schools, on='school_id')\n",
        "\n",
        "# Filter to only opted-in students\n",
        "opted_in = merged_df[merged_df['active']==True]\n",
        "\n",
        "# Group by country and count number opted-in\n",
        "opted_in_counts = opted_in.groupby('jt_country')['user_id'].count()\n",
        "# Get total students by country\n",
        "total_counts = df_schools.groupby('jt_country')['school_id'].count()\n",
        "# Calculate opt-in rate by country\n",
        "opt_rates = opted_in_counts/total_counts\n",
        "\n",
        "print(opt_rates.sort_values(ascending=False))\n",
        "# print(opted_in_counts)\n",
        "# print(total_counts)"
      ],
      "metadata": {
        "colab": {
          "base_uri": "https://localhost:8080/"
        },
        "id": "bKPxO52Wspe_",
        "outputId": "2f361ce7-3351-4ed0-b8ab-74b79c53731f"
      },
      "execution_count": null,
      "outputs": [
        {
          "output_type": "stream",
          "name": "stdout",
          "text": [
            "jt_country\n",
            "Lebanon                 522.571429\n",
            "Portugal                380.259259\n",
            "Greece                  309.000000\n",
            "Italy                   248.944444\n",
            "Luxembourg              228.000000\n",
            "France                  133.432956\n",
            "Spain                   132.801508\n",
            "Poland                  117.888889\n",
            "Belgium                 116.298780\n",
            "United Kingdom           79.395415\n",
            "Andorra                  72.000000\n",
            "Austria                  65.411765\n",
            "Germany                  60.332737\n",
            "Netherlands              57.344186\n",
            "Finland                  56.743590\n",
            "Ireland                  55.290323\n",
            "United Arab Emirates     37.692308\n",
            "Sweden                   33.818182\n",
            "Russian Federation       28.000000\n",
            "Norway                   23.500000\n",
            "Czechia                  21.166667\n",
            "Switzerland              16.000000\n",
            "Romania                  13.333333\n",
            "United States             7.000000\n",
            "Puerto Rico               6.000000\n",
            "Denmark                   4.444444\n",
            "Estonia                   2.000000\n",
            "Australia                      NaN\n",
            "Bahamas                        NaN\n",
            "Colombia                       NaN\n",
            "Croatia                        NaN\n",
            "Cyprus                         NaN\n",
            "Czech Republic                 NaN\n",
            "Côte D'Ivoire                  NaN\n",
            "Ghana                          NaN\n",
            "Gibraltar                      NaN\n",
            "Hungary                        NaN\n",
            "Monaco                         NaN\n",
            "Nauru                          NaN\n",
            "Nicaragua                      NaN\n",
            "Serbia                         NaN\n",
            "Slovenia                       NaN\n",
            "dtype: float64\n"
          ]
        }
      ]
    },
    {
      "cell_type": "markdown",
      "source": [
        "## 4- See the students from certain school are likely to have either career centers or Job teaser   \n",
        "(note:This hypothesis could be tested by comparing the is_cc and jt_school_type)"
      ],
      "metadata": {
        "id": "DfNjK2lfCb1W"
      }
    },
    {
      "cell_type": "code",
      "source": [
        "# merge df_optin & df_school\n",
        "status_school = df_status.merge(df_schools, how=\"left\", on=\"school_id\")\n",
        "status_school"
      ],
      "metadata": {
        "id": "_59Fq1Z5CQad",
        "colab": {
          "base_uri": "https://localhost:8080/",
          "height": 964
        },
        "outputId": "c0b06808-f50f-43f8-ff85-41349220d734"
      },
      "execution_count": null,
      "outputs": [
        {
          "output_type": "execute_result",
          "data": {
            "text/plain": [
              "                                    user_id        receive_time  \\\n",
              "0      7d7ea4ca-60b3-46a4-b285-499d5922cff5 2019-10-03 16:41:00   \n",
              "1      96219492-f7b5-45e1-b529-57c8432850e8 2019-10-01 15:17:00   \n",
              "2      c8fbaee9-4506-44e7-bb59-b6eb80a023ed 2019-08-26 11:41:00   \n",
              "3      c8fbaee9-4506-44e7-bb59-b6eb80a023ed 2019-09-04 08:31:00   \n",
              "4      c8fbaee9-4506-44e7-bb59-b6eb80a023ed 2019-09-30 17:38:00   \n",
              "...                                     ...                 ...   \n",
              "50390  e2c93e64-dfa3-4b18-a8d1-296d26848cb7 2020-09-02 09:23:00   \n",
              "50391  e5806434-277a-4bbb-9a96-d3db32e7de00 2020-07-09 16:01:00   \n",
              "50392  ed363d12-a88c-46b1-b6e8-b9b6b4b0322e 2020-03-20 09:08:00   \n",
              "50393  ed363d12-a88c-46b1-b6e8-b9b6b4b0322e 2020-03-19 15:38:00   \n",
              "50394  ed363d12-a88c-46b1-b6e8-b9b6b4b0322e 2020-03-19 14:16:00   \n",
              "\n",
              "                               shortlist_id   status_update   update_cause  \\\n",
              "0      878c2098-626c-4818-9215-d449ccccd46b        awaiting  auto-creation   \n",
              "1      8a37ed37-b9c5-4a54-8686-e578bf3ebeed        awaiting  auto-creation   \n",
              "2      c3de8641-56e3-416d-8cdd-f06db256784c        awaiting  auto-creation   \n",
              "3      f3b417fe-eea4-4a94-939d-0a270d0dd86d        awaiting  auto-creation   \n",
              "4      a61cf763-52c6-400a-999d-f807772fa3b2        awaiting  auto-creation   \n",
              "...                                     ...             ...            ...   \n",
              "50390  3ecbb71a-38fb-4f70-be0d-c4859a96f6aa  not interested   auto-timeout   \n",
              "50391  45f5b639-a468-4a42-8c5d-9b1116aa3a42  not interested   auto-timeout   \n",
              "50392  1fd7c5dd-bdef-49e5-96dd-da30b58f1cd7  not interested   auto-timeout   \n",
              "50393  2a2bcef8-f163-478c-96b6-4397ad326465  not interested   auto-timeout   \n",
              "50394  b23e9431-b80f-4443-b678-d9d336f293cf  not interested   auto-timeout   \n",
              "\n",
              "                                  school_id     last_connection  \\\n",
              "0      0101b57f-8f24-4741-81f6-b72fa5935248 2019-09-13 11:55:00   \n",
              "1      0101b57f-8f24-4741-81f6-b72fa5935248 2020-06-15 15:32:00   \n",
              "2      0269f3bb-2cae-4751-92c0-b6c0522a6d84 2020-10-29 10:28:00   \n",
              "3      0269f3bb-2cae-4751-92c0-b6c0522a6d84 2020-10-29 10:28:00   \n",
              "4      0269f3bb-2cae-4751-92c0-b6c0522a6d84 2020-10-29 10:28:00   \n",
              "...                                     ...                 ...   \n",
              "50390  ffebf613-0961-44d2-bd87-f9c3b1f5ed51 2020-09-10 09:28:00   \n",
              "50391  ffebf613-0961-44d2-bd87-f9c3b1f5ed51 2020-05-11 09:19:00   \n",
              "50392  ffebf613-0961-44d2-bd87-f9c3b1f5ed51 2019-12-04 14:48:00   \n",
              "50393  ffebf613-0961-44d2-bd87-f9c3b1f5ed51 2019-12-04 14:48:00   \n",
              "50394  ffebf613-0961-44d2-bd87-f9c3b1f5ed51 2019-12-04 14:48:00   \n",
              "\n",
              "       is_career_center                    intranet_school_id jt_country  \\\n",
              "0                  True                                   NaN     France   \n",
              "1                  True                                   NaN     France   \n",
              "2                 False  f3b0bf84-55f7-4ade-9806-f04b71a16a19     France   \n",
              "3                 False  f3b0bf84-55f7-4ade-9806-f04b71a16a19     France   \n",
              "4                 False  f3b0bf84-55f7-4ade-9806-f04b71a16a19     France   \n",
              "...                 ...                                   ...        ...   \n",
              "50390              True                                   NaN     France   \n",
              "50391              True                                   NaN     France   \n",
              "50392              True                                   NaN     France   \n",
              "50393              True                                   NaN     France   \n",
              "50394              True                                   NaN     France   \n",
              "\n",
              "      jt_intranet_status  jt_school_type  \n",
              "0               launched               2  \n",
              "1               launched               2  \n",
              "2                pending               2  \n",
              "3                pending               2  \n",
              "4                pending               2  \n",
              "...                  ...             ...  \n",
              "50390           launched               1  \n",
              "50391           launched               1  \n",
              "50392           launched               1  \n",
              "50393           launched               1  \n",
              "50394           launched               1  \n",
              "\n",
              "[50395 rows x 12 columns]"
            ],
            "text/html": [
              "\n",
              "  <div id=\"df-28fe1347-3ac5-404c-b833-bd211bcb94f2\" class=\"colab-df-container\">\n",
              "    <div>\n",
              "<style scoped>\n",
              "    .dataframe tbody tr th:only-of-type {\n",
              "        vertical-align: middle;\n",
              "    }\n",
              "\n",
              "    .dataframe tbody tr th {\n",
              "        vertical-align: top;\n",
              "    }\n",
              "\n",
              "    .dataframe thead th {\n",
              "        text-align: right;\n",
              "    }\n",
              "</style>\n",
              "<table border=\"1\" class=\"dataframe\">\n",
              "  <thead>\n",
              "    <tr style=\"text-align: right;\">\n",
              "      <th></th>\n",
              "      <th>user_id</th>\n",
              "      <th>receive_time</th>\n",
              "      <th>shortlist_id</th>\n",
              "      <th>status_update</th>\n",
              "      <th>update_cause</th>\n",
              "      <th>school_id</th>\n",
              "      <th>last_connection</th>\n",
              "      <th>is_career_center</th>\n",
              "      <th>intranet_school_id</th>\n",
              "      <th>jt_country</th>\n",
              "      <th>jt_intranet_status</th>\n",
              "      <th>jt_school_type</th>\n",
              "    </tr>\n",
              "  </thead>\n",
              "  <tbody>\n",
              "    <tr>\n",
              "      <th>0</th>\n",
              "      <td>7d7ea4ca-60b3-46a4-b285-499d5922cff5</td>\n",
              "      <td>2019-10-03 16:41:00</td>\n",
              "      <td>878c2098-626c-4818-9215-d449ccccd46b</td>\n",
              "      <td>awaiting</td>\n",
              "      <td>auto-creation</td>\n",
              "      <td>0101b57f-8f24-4741-81f6-b72fa5935248</td>\n",
              "      <td>2019-09-13 11:55:00</td>\n",
              "      <td>True</td>\n",
              "      <td>NaN</td>\n",
              "      <td>France</td>\n",
              "      <td>launched</td>\n",
              "      <td>2</td>\n",
              "    </tr>\n",
              "    <tr>\n",
              "      <th>1</th>\n",
              "      <td>96219492-f7b5-45e1-b529-57c8432850e8</td>\n",
              "      <td>2019-10-01 15:17:00</td>\n",
              "      <td>8a37ed37-b9c5-4a54-8686-e578bf3ebeed</td>\n",
              "      <td>awaiting</td>\n",
              "      <td>auto-creation</td>\n",
              "      <td>0101b57f-8f24-4741-81f6-b72fa5935248</td>\n",
              "      <td>2020-06-15 15:32:00</td>\n",
              "      <td>True</td>\n",
              "      <td>NaN</td>\n",
              "      <td>France</td>\n",
              "      <td>launched</td>\n",
              "      <td>2</td>\n",
              "    </tr>\n",
              "    <tr>\n",
              "      <th>2</th>\n",
              "      <td>c8fbaee9-4506-44e7-bb59-b6eb80a023ed</td>\n",
              "      <td>2019-08-26 11:41:00</td>\n",
              "      <td>c3de8641-56e3-416d-8cdd-f06db256784c</td>\n",
              "      <td>awaiting</td>\n",
              "      <td>auto-creation</td>\n",
              "      <td>0269f3bb-2cae-4751-92c0-b6c0522a6d84</td>\n",
              "      <td>2020-10-29 10:28:00</td>\n",
              "      <td>False</td>\n",
              "      <td>f3b0bf84-55f7-4ade-9806-f04b71a16a19</td>\n",
              "      <td>France</td>\n",
              "      <td>pending</td>\n",
              "      <td>2</td>\n",
              "    </tr>\n",
              "    <tr>\n",
              "      <th>3</th>\n",
              "      <td>c8fbaee9-4506-44e7-bb59-b6eb80a023ed</td>\n",
              "      <td>2019-09-04 08:31:00</td>\n",
              "      <td>f3b417fe-eea4-4a94-939d-0a270d0dd86d</td>\n",
              "      <td>awaiting</td>\n",
              "      <td>auto-creation</td>\n",
              "      <td>0269f3bb-2cae-4751-92c0-b6c0522a6d84</td>\n",
              "      <td>2020-10-29 10:28:00</td>\n",
              "      <td>False</td>\n",
              "      <td>f3b0bf84-55f7-4ade-9806-f04b71a16a19</td>\n",
              "      <td>France</td>\n",
              "      <td>pending</td>\n",
              "      <td>2</td>\n",
              "    </tr>\n",
              "    <tr>\n",
              "      <th>4</th>\n",
              "      <td>c8fbaee9-4506-44e7-bb59-b6eb80a023ed</td>\n",
              "      <td>2019-09-30 17:38:00</td>\n",
              "      <td>a61cf763-52c6-400a-999d-f807772fa3b2</td>\n",
              "      <td>awaiting</td>\n",
              "      <td>auto-creation</td>\n",
              "      <td>0269f3bb-2cae-4751-92c0-b6c0522a6d84</td>\n",
              "      <td>2020-10-29 10:28:00</td>\n",
              "      <td>False</td>\n",
              "      <td>f3b0bf84-55f7-4ade-9806-f04b71a16a19</td>\n",
              "      <td>France</td>\n",
              "      <td>pending</td>\n",
              "      <td>2</td>\n",
              "    </tr>\n",
              "    <tr>\n",
              "      <th>...</th>\n",
              "      <td>...</td>\n",
              "      <td>...</td>\n",
              "      <td>...</td>\n",
              "      <td>...</td>\n",
              "      <td>...</td>\n",
              "      <td>...</td>\n",
              "      <td>...</td>\n",
              "      <td>...</td>\n",
              "      <td>...</td>\n",
              "      <td>...</td>\n",
              "      <td>...</td>\n",
              "      <td>...</td>\n",
              "    </tr>\n",
              "    <tr>\n",
              "      <th>50390</th>\n",
              "      <td>e2c93e64-dfa3-4b18-a8d1-296d26848cb7</td>\n",
              "      <td>2020-09-02 09:23:00</td>\n",
              "      <td>3ecbb71a-38fb-4f70-be0d-c4859a96f6aa</td>\n",
              "      <td>not interested</td>\n",
              "      <td>auto-timeout</td>\n",
              "      <td>ffebf613-0961-44d2-bd87-f9c3b1f5ed51</td>\n",
              "      <td>2020-09-10 09:28:00</td>\n",
              "      <td>True</td>\n",
              "      <td>NaN</td>\n",
              "      <td>France</td>\n",
              "      <td>launched</td>\n",
              "      <td>1</td>\n",
              "    </tr>\n",
              "    <tr>\n",
              "      <th>50391</th>\n",
              "      <td>e5806434-277a-4bbb-9a96-d3db32e7de00</td>\n",
              "      <td>2020-07-09 16:01:00</td>\n",
              "      <td>45f5b639-a468-4a42-8c5d-9b1116aa3a42</td>\n",
              "      <td>not interested</td>\n",
              "      <td>auto-timeout</td>\n",
              "      <td>ffebf613-0961-44d2-bd87-f9c3b1f5ed51</td>\n",
              "      <td>2020-05-11 09:19:00</td>\n",
              "      <td>True</td>\n",
              "      <td>NaN</td>\n",
              "      <td>France</td>\n",
              "      <td>launched</td>\n",
              "      <td>1</td>\n",
              "    </tr>\n",
              "    <tr>\n",
              "      <th>50392</th>\n",
              "      <td>ed363d12-a88c-46b1-b6e8-b9b6b4b0322e</td>\n",
              "      <td>2020-03-20 09:08:00</td>\n",
              "      <td>1fd7c5dd-bdef-49e5-96dd-da30b58f1cd7</td>\n",
              "      <td>not interested</td>\n",
              "      <td>auto-timeout</td>\n",
              "      <td>ffebf613-0961-44d2-bd87-f9c3b1f5ed51</td>\n",
              "      <td>2019-12-04 14:48:00</td>\n",
              "      <td>True</td>\n",
              "      <td>NaN</td>\n",
              "      <td>France</td>\n",
              "      <td>launched</td>\n",
              "      <td>1</td>\n",
              "    </tr>\n",
              "    <tr>\n",
              "      <th>50393</th>\n",
              "      <td>ed363d12-a88c-46b1-b6e8-b9b6b4b0322e</td>\n",
              "      <td>2020-03-19 15:38:00</td>\n",
              "      <td>2a2bcef8-f163-478c-96b6-4397ad326465</td>\n",
              "      <td>not interested</td>\n",
              "      <td>auto-timeout</td>\n",
              "      <td>ffebf613-0961-44d2-bd87-f9c3b1f5ed51</td>\n",
              "      <td>2019-12-04 14:48:00</td>\n",
              "      <td>True</td>\n",
              "      <td>NaN</td>\n",
              "      <td>France</td>\n",
              "      <td>launched</td>\n",
              "      <td>1</td>\n",
              "    </tr>\n",
              "    <tr>\n",
              "      <th>50394</th>\n",
              "      <td>ed363d12-a88c-46b1-b6e8-b9b6b4b0322e</td>\n",
              "      <td>2020-03-19 14:16:00</td>\n",
              "      <td>b23e9431-b80f-4443-b678-d9d336f293cf</td>\n",
              "      <td>not interested</td>\n",
              "      <td>auto-timeout</td>\n",
              "      <td>ffebf613-0961-44d2-bd87-f9c3b1f5ed51</td>\n",
              "      <td>2019-12-04 14:48:00</td>\n",
              "      <td>True</td>\n",
              "      <td>NaN</td>\n",
              "      <td>France</td>\n",
              "      <td>launched</td>\n",
              "      <td>1</td>\n",
              "    </tr>\n",
              "  </tbody>\n",
              "</table>\n",
              "<p>50395 rows × 12 columns</p>\n",
              "</div>\n",
              "    <div class=\"colab-df-buttons\">\n",
              "\n",
              "  <div class=\"colab-df-container\">\n",
              "    <button class=\"colab-df-convert\" onclick=\"convertToInteractive('df-28fe1347-3ac5-404c-b833-bd211bcb94f2')\"\n",
              "            title=\"Convert this dataframe to an interactive table.\"\n",
              "            style=\"display:none;\">\n",
              "\n",
              "  <svg xmlns=\"http://www.w3.org/2000/svg\" height=\"24px\" viewBox=\"0 -960 960 960\">\n",
              "    <path d=\"M120-120v-720h720v720H120Zm60-500h600v-160H180v160Zm220 220h160v-160H400v160Zm0 220h160v-160H400v160ZM180-400h160v-160H180v160Zm440 0h160v-160H620v160ZM180-180h160v-160H180v160Zm440 0h160v-160H620v160Z\"/>\n",
              "  </svg>\n",
              "    </button>\n",
              "\n",
              "  <style>\n",
              "    .colab-df-container {\n",
              "      display:flex;\n",
              "      gap: 12px;\n",
              "    }\n",
              "\n",
              "    .colab-df-convert {\n",
              "      background-color: #E8F0FE;\n",
              "      border: none;\n",
              "      border-radius: 50%;\n",
              "      cursor: pointer;\n",
              "      display: none;\n",
              "      fill: #1967D2;\n",
              "      height: 32px;\n",
              "      padding: 0 0 0 0;\n",
              "      width: 32px;\n",
              "    }\n",
              "\n",
              "    .colab-df-convert:hover {\n",
              "      background-color: #E2EBFA;\n",
              "      box-shadow: 0px 1px 2px rgba(60, 64, 67, 0.3), 0px 1px 3px 1px rgba(60, 64, 67, 0.15);\n",
              "      fill: #174EA6;\n",
              "    }\n",
              "\n",
              "    .colab-df-buttons div {\n",
              "      margin-bottom: 4px;\n",
              "    }\n",
              "\n",
              "    [theme=dark] .colab-df-convert {\n",
              "      background-color: #3B4455;\n",
              "      fill: #D2E3FC;\n",
              "    }\n",
              "\n",
              "    [theme=dark] .colab-df-convert:hover {\n",
              "      background-color: #434B5C;\n",
              "      box-shadow: 0px 1px 3px 1px rgba(0, 0, 0, 0.15);\n",
              "      filter: drop-shadow(0px 1px 2px rgba(0, 0, 0, 0.3));\n",
              "      fill: #FFFFFF;\n",
              "    }\n",
              "  </style>\n",
              "\n",
              "    <script>\n",
              "      const buttonEl =\n",
              "        document.querySelector('#df-28fe1347-3ac5-404c-b833-bd211bcb94f2 button.colab-df-convert');\n",
              "      buttonEl.style.display =\n",
              "        google.colab.kernel.accessAllowed ? 'block' : 'none';\n",
              "\n",
              "      async function convertToInteractive(key) {\n",
              "        const element = document.querySelector('#df-28fe1347-3ac5-404c-b833-bd211bcb94f2');\n",
              "        const dataTable =\n",
              "          await google.colab.kernel.invokeFunction('convertToInteractive',\n",
              "                                                    [key], {});\n",
              "        if (!dataTable) return;\n",
              "\n",
              "        const docLinkHtml = 'Like what you see? Visit the ' +\n",
              "          '<a target=\"_blank\" href=https://colab.research.google.com/notebooks/data_table.ipynb>data table notebook</a>'\n",
              "          + ' to learn more about interactive tables.';\n",
              "        element.innerHTML = '';\n",
              "        dataTable['output_type'] = 'display_data';\n",
              "        await google.colab.output.renderOutput(dataTable, element);\n",
              "        const docLink = document.createElement('div');\n",
              "        docLink.innerHTML = docLinkHtml;\n",
              "        element.appendChild(docLink);\n",
              "      }\n",
              "    </script>\n",
              "  </div>\n",
              "\n",
              "\n",
              "<div id=\"df-e6d7ee44-9d51-4e57-a650-8bb3f9e5311a\">\n",
              "  <button class=\"colab-df-quickchart\" onclick=\"quickchart('df-e6d7ee44-9d51-4e57-a650-8bb3f9e5311a')\"\n",
              "            title=\"Suggest charts\"\n",
              "            style=\"display:none;\">\n",
              "\n",
              "<svg xmlns=\"http://www.w3.org/2000/svg\" height=\"24px\"viewBox=\"0 0 24 24\"\n",
              "     width=\"24px\">\n",
              "    <g>\n",
              "        <path d=\"M19 3H5c-1.1 0-2 .9-2 2v14c0 1.1.9 2 2 2h14c1.1 0 2-.9 2-2V5c0-1.1-.9-2-2-2zM9 17H7v-7h2v7zm4 0h-2V7h2v10zm4 0h-2v-4h2v4z\"/>\n",
              "    </g>\n",
              "</svg>\n",
              "  </button>\n",
              "\n",
              "<style>\n",
              "  .colab-df-quickchart {\n",
              "      --bg-color: #E8F0FE;\n",
              "      --fill-color: #1967D2;\n",
              "      --hover-bg-color: #E2EBFA;\n",
              "      --hover-fill-color: #174EA6;\n",
              "      --disabled-fill-color: #AAA;\n",
              "      --disabled-bg-color: #DDD;\n",
              "  }\n",
              "\n",
              "  [theme=dark] .colab-df-quickchart {\n",
              "      --bg-color: #3B4455;\n",
              "      --fill-color: #D2E3FC;\n",
              "      --hover-bg-color: #434B5C;\n",
              "      --hover-fill-color: #FFFFFF;\n",
              "      --disabled-bg-color: #3B4455;\n",
              "      --disabled-fill-color: #666;\n",
              "  }\n",
              "\n",
              "  .colab-df-quickchart {\n",
              "    background-color: var(--bg-color);\n",
              "    border: none;\n",
              "    border-radius: 50%;\n",
              "    cursor: pointer;\n",
              "    display: none;\n",
              "    fill: var(--fill-color);\n",
              "    height: 32px;\n",
              "    padding: 0;\n",
              "    width: 32px;\n",
              "  }\n",
              "\n",
              "  .colab-df-quickchart:hover {\n",
              "    background-color: var(--hover-bg-color);\n",
              "    box-shadow: 0 1px 2px rgba(60, 64, 67, 0.3), 0 1px 3px 1px rgba(60, 64, 67, 0.15);\n",
              "    fill: var(--button-hover-fill-color);\n",
              "  }\n",
              "\n",
              "  .colab-df-quickchart-complete:disabled,\n",
              "  .colab-df-quickchart-complete:disabled:hover {\n",
              "    background-color: var(--disabled-bg-color);\n",
              "    fill: var(--disabled-fill-color);\n",
              "    box-shadow: none;\n",
              "  }\n",
              "\n",
              "  .colab-df-spinner {\n",
              "    border: 2px solid var(--fill-color);\n",
              "    border-color: transparent;\n",
              "    border-bottom-color: var(--fill-color);\n",
              "    animation:\n",
              "      spin 1s steps(1) infinite;\n",
              "  }\n",
              "\n",
              "  @keyframes spin {\n",
              "    0% {\n",
              "      border-color: transparent;\n",
              "      border-bottom-color: var(--fill-color);\n",
              "      border-left-color: var(--fill-color);\n",
              "    }\n",
              "    20% {\n",
              "      border-color: transparent;\n",
              "      border-left-color: var(--fill-color);\n",
              "      border-top-color: var(--fill-color);\n",
              "    }\n",
              "    30% {\n",
              "      border-color: transparent;\n",
              "      border-left-color: var(--fill-color);\n",
              "      border-top-color: var(--fill-color);\n",
              "      border-right-color: var(--fill-color);\n",
              "    }\n",
              "    40% {\n",
              "      border-color: transparent;\n",
              "      border-right-color: var(--fill-color);\n",
              "      border-top-color: var(--fill-color);\n",
              "    }\n",
              "    60% {\n",
              "      border-color: transparent;\n",
              "      border-right-color: var(--fill-color);\n",
              "    }\n",
              "    80% {\n",
              "      border-color: transparent;\n",
              "      border-right-color: var(--fill-color);\n",
              "      border-bottom-color: var(--fill-color);\n",
              "    }\n",
              "    90% {\n",
              "      border-color: transparent;\n",
              "      border-bottom-color: var(--fill-color);\n",
              "    }\n",
              "  }\n",
              "</style>\n",
              "\n",
              "  <script>\n",
              "    async function quickchart(key) {\n",
              "      const quickchartButtonEl =\n",
              "        document.querySelector('#' + key + ' button');\n",
              "      quickchartButtonEl.disabled = true;  // To prevent multiple clicks.\n",
              "      quickchartButtonEl.classList.add('colab-df-spinner');\n",
              "      try {\n",
              "        const charts = await google.colab.kernel.invokeFunction(\n",
              "            'suggestCharts', [key], {});\n",
              "      } catch (error) {\n",
              "        console.error('Error during call to suggestCharts:', error);\n",
              "      }\n",
              "      quickchartButtonEl.classList.remove('colab-df-spinner');\n",
              "      quickchartButtonEl.classList.add('colab-df-quickchart-complete');\n",
              "    }\n",
              "    (() => {\n",
              "      let quickchartButtonEl =\n",
              "        document.querySelector('#df-e6d7ee44-9d51-4e57-a650-8bb3f9e5311a button');\n",
              "      quickchartButtonEl.style.display =\n",
              "        google.colab.kernel.accessAllowed ? 'block' : 'none';\n",
              "    })();\n",
              "  </script>\n",
              "</div>\n",
              "    </div>\n",
              "  </div>\n"
            ]
          },
          "metadata": {},
          "execution_count": 20
        }
      ]
    },
    {
      "cell_type": "code",
      "source": [
        "status_school[\"is_career_center\"].value_counts()"
      ],
      "metadata": {
        "colab": {
          "base_uri": "https://localhost:8080/"
        },
        "id": "HQya0EmjFnKR",
        "outputId": "755a5f05-c76f-4e24-84a3-22b1c1bc4629"
      },
      "execution_count": null,
      "outputs": [
        {
          "output_type": "execute_result",
          "data": {
            "text/plain": [
              "True     45905\n",
              "False     4490\n",
              "Name: is_career_center, dtype: int64"
            ]
          },
          "metadata": {},
          "execution_count": 22
        }
      ]
    },
    {
      "cell_type": "code",
      "source": [
        "# percentage of students from city center for every country\n",
        "is_cc_count = status_school.groupby([\"jt_school_type\"])[\"is_career_center\"].value_counts()\n",
        "is_cc_count"
      ],
      "metadata": {
        "colab": {
          "base_uri": "https://localhost:8080/"
        },
        "id": "IEtyWWpPGOga",
        "outputId": "5a5eea5d-44dd-482c-be30-3ceb8a0aa46e"
      },
      "execution_count": null,
      "outputs": [
        {
          "output_type": "execute_result",
          "data": {
            "text/plain": [
              "jt_school_type  is_career_center\n",
              "1               True                 8502\n",
              "                False                 701\n",
              "2               True                25558\n",
              "                False                1097\n",
              "3               True                 7372\n",
              "                False                1184\n",
              "4               False                  10\n",
              "                True                    2\n",
              "5               False                   1\n",
              "6               True                  191\n",
              "                False                   8\n",
              "7               True                 4130\n",
              "                False                1462\n",
              "8               True                  150\n",
              "                False                  27\n",
              "Name: is_career_center, dtype: int64"
            ]
          },
          "metadata": {},
          "execution_count": 24
        }
      ]
    },
    {
      "cell_type": "code",
      "source": [
        "is_cc_total = status_school.groupby([\"jt_school_type\"])[\"is_career_center\"].size()\n",
        "is_cc_total"
      ],
      "metadata": {
        "colab": {
          "base_uri": "https://localhost:8080/"
        },
        "id": "X7gPSRdLLYJL",
        "outputId": "8aad23d5-379f-45e0-f09b-1587bff30688"
      },
      "execution_count": null,
      "outputs": [
        {
          "output_type": "execute_result",
          "data": {
            "text/plain": [
              "jt_school_type\n",
              "1     9203\n",
              "2    26655\n",
              "3     8556\n",
              "4       12\n",
              "5        1\n",
              "6      199\n",
              "7     5592\n",
              "8      177\n",
              "Name: is_career_center, dtype: int64"
            ]
          },
          "metadata": {},
          "execution_count": 26
        }
      ]
    },
    {
      "cell_type": "code",
      "source": [
        "is_cc_percentage = is_cc_count/is_cc_total*100\n",
        "is_cc_percentage"
      ],
      "metadata": {
        "id": "Zs7x9Pui2byj",
        "colab": {
          "base_uri": "https://localhost:8080/"
        },
        "outputId": "ea84f60e-9220-4064-bd3a-8e7fcd71ec6b"
      },
      "execution_count": null,
      "outputs": [
        {
          "output_type": "execute_result",
          "data": {
            "text/plain": [
              "jt_school_type  is_career_center\n",
              "1               True                 92.382919\n",
              "                False                 7.617081\n",
              "2               True                 95.884449\n",
              "                False                 4.115551\n",
              "3               True                 86.161758\n",
              "                False                13.838242\n",
              "4               False                83.333333\n",
              "                True                 16.666667\n",
              "5               False               100.000000\n",
              "6               True                 95.979899\n",
              "                False                 4.020101\n",
              "7               True                 73.855508\n",
              "                False                26.144492\n",
              "8               True                 84.745763\n",
              "                False                15.254237\n",
              "Name: is_career_center, dtype: float64"
            ]
          },
          "metadata": {},
          "execution_count": 27
        }
      ]
    },
    {
      "cell_type": "markdown",
      "source": [
        "## 5- Student who sign in a lot (active) is more likely to likely to interested"
      ],
      "metadata": {
        "id": "nEOl9WawjaHZ"
      }
    },
    {
      "cell_type": "code",
      "source": [
        "grouped = df_status.groupby([\"user_id\"]).size().sort_values(ascending=False)\n",
        "grouped"
      ],
      "metadata": {
        "colab": {
          "base_uri": "https://localhost:8080/"
        },
        "id": "-HQwHm1Dkvtn",
        "outputId": "648be0d5-5eeb-42ff-e6c8-37ee74397d32"
      },
      "execution_count": null,
      "outputs": [
        {
          "output_type": "execute_result",
          "data": {
            "text/plain": [
              "user_id\n",
              "01780fb3-66fb-4417-ba44-36c168c3b472    54\n",
              "8326fe0a-d733-4330-bf37-73cab8f0f165    28\n",
              "7410086f-dd2c-490e-a988-7f68e25f3d7e    28\n",
              "ba2acd24-e896-4bfe-954e-4f66052c3936    28\n",
              "95d4f1d0-890d-4c28-a809-257b3e49f207    27\n",
              "                                        ..\n",
              "650dbee0-d39a-4536-9d58-e20ef1089835     1\n",
              "6509c2e1-a2b1-4247-b057-895a62979072     1\n",
              "6509ae26-b8c7-4240-9a3f-2688a0d3de8c     1\n",
              "6505c82f-6cfe-46d2-9c59-e983933c36a2     1\n",
              "fffae8bd-e305-40d3-9b5c-e2c89ff04733     1\n",
              "Length: 31485, dtype: int64"
            ]
          },
          "metadata": {},
          "execution_count": 30
        }
      ]
    },
    {
      "cell_type": "markdown",
      "source": [
        "# Export cleaned tables as csv files"
      ],
      "metadata": {
        "id": "r7_FQP21yctC"
      }
    },
    {
      "cell_type": "markdown",
      "source": [
        "## csv files in local device"
      ],
      "metadata": {
        "id": "gapf6Z5ZXIgZ"
      }
    },
    {
      "cell_type": "code",
      "source": [
        "#df_optin.to_csv('df_optin_cleaned.csv', index=False)"
      ],
      "metadata": {
        "id": "AKsmVzFX0oV4"
      },
      "execution_count": null,
      "outputs": []
    },
    {
      "cell_type": "code",
      "source": [
        "#df_status.to_csv('df_status_cleaned.csv', index=False)"
      ],
      "metadata": {
        "id": "kQUNtXEc5Ooz"
      },
      "execution_count": null,
      "outputs": []
    },
    {
      "cell_type": "code",
      "source": [
        "#df_schools.to_csv('df_schools_cleaned.csv', index=False)"
      ],
      "metadata": {
        "id": "zqfGEue25RuW"
      },
      "execution_count": null,
      "outputs": []
    },
    {
      "cell_type": "markdown",
      "source": [
        "## csv files in drive"
      ],
      "metadata": {
        "id": "MTc20ctWXM81"
      }
    },
    {
      "cell_type": "code",
      "source": [
        "df_optin.to_csv('/content/drive/MyDrive/jobteaser_cleaned1/df_optin_cleaned.csv', index=False)"
      ],
      "metadata": {
        "id": "L1D58xFE8iTE"
      },
      "execution_count": null,
      "outputs": []
    },
    {
      "cell_type": "code",
      "source": [
        "df_status.to_csv('/content/drive/MyDrive/jobteaser_cleaned1/df_status_cleaned.csv', index=False)"
      ],
      "metadata": {
        "id": "ADf0hVA58cDo"
      },
      "execution_count": null,
      "outputs": []
    },
    {
      "cell_type": "code",
      "source": [
        "df_schools.to_csv('/content/drive/MyDrive/jobteaser_cleaned1/df_schools_cleaned.csv', index=False)"
      ],
      "metadata": {
        "id": "ypuCxpkr8kSz"
      },
      "execution_count": null,
      "outputs": []
    }
  ]
}